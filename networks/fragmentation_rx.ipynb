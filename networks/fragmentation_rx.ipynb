{
 "cells": [
  {
   "cell_type": "code",
   "execution_count": 1,
   "metadata": {},
   "outputs": [],
   "source": [
    "import socket\n",
    "import argparse\n",
    "import json\n",
    "from pprint import pprint\n",
    "\n",
    "packet_storage = {\n",
    "}\n",
    "\n",
    "\n",
    "def dehex_packet(x):\n",
    "    temp_packet = dict(x)\n",
    "    hexed_data = ['length', 'Offset', 'ID', 'FragFlag']\n",
    "    for key in temp_packet:\n",
    "        if key in hexed_data:\n",
    "            temp_packet[key] = unpack_hex_to_int(temp_packet[key])\n",
    "    return temp_packet\n",
    "\n",
    "\n",
    "def unpack_hex_to_int(data):\n",
    "    return int(data, 16)"
   ]
  },
  {
   "cell_type": "code",
   "execution_count": 2,
   "metadata": {},
   "outputs": [],
   "source": [
    "def reassemble(packets):\n",
    "    sorted_pkt_list = sorted(packets, key=lambda k: int(k['Offset']))\n",
    "    assembled_data = []\n",
    "    for pkt in sorted_pkt_list:\n",
    "        assembled_data.append(pkt['payload'])\n",
    "    return ''.join(assembled_data)\n",
    "\n",
    "\n",
    "def process_storage():\n",
    "    assembled_data = []\n",
    "    for key in packet_storage:\n",
    "        packets = packet_storage[key]\n",
    "        for pkt in packets:\n",
    "            if pkt['FragFlag'] == 0 and pkt['Offset'] != 0:\n",
    "                print(\"Received final fragment for packet ID {}\".format(pkt['ID']))\n",
    "                data = reassemble(packets)\n",
    "                # print(\"Assembled data:\\n {}\".format(data))\n",
    "                # del packet_storage[key]\n",
    "                assembled_data.append({'data': data, 'id': pkt['ID']})\n",
    "                break\n",
    "            if pkt['FragFlag'] == 0 and pkt['Offset'] == 0:\n",
    "                print(\"Received packet ID {}\".format(pkt['ID']))\n",
    "                # print(\"Data:\\n {}\".format(pkt['payload']))\n",
    "                assembled_data.append({'data': pkt['payload'], 'id': pkt['ID']})\n",
    "                break\n",
    "    # pprint(assembled_data)\n",
    "    sorted_assembled_list = sorted(assembled_data, key=lambda k: int(k['id']))\n",
    "    final_data = []\n",
    "    for x in sorted_assembled_list:\n",
    "        final_data.append(x['data'])\n",
    "    return ''.join(final_data)"
   ]
  },
  {
   "cell_type": "code",
   "execution_count": 3,
   "metadata": {},
   "outputs": [],
   "source": [
    "def add_to_storage(pkt):\n",
    "    packet = dict(pkt)\n",
    "    global packet_storage\n",
    "    packet = dehex_packet(packet)\n",
    "\n",
    "    packet_id = str(packet['ID'])\n",
    "\n",
    "    if packet_id in packet_storage:\n",
    "        packet_storage[packet_id].append(packet)\n",
    "    else:\n",
    "        packet_storage[packet_id] = [packet]"
   ]
  },
  {
   "cell_type": "code",
   "execution_count": 4,
   "metadata": {},
   "outputs": [],
   "source": [
    "def udp_receiver(udp_ip, udp_port):\n",
    "    received_data = ''\n",
    "    sock = socket.socket(socket.AF_INET,  # Internet\n",
    "                         socket.SOCK_DGRAM)  # UDP\n",
    "    sock.settimeout(2)\n",
    "    sock.bind((udp_ip, udp_port))\n",
    "\n",
    "    for x in range(20):\n",
    "        data = ''\n",
    "        try:\n",
    "            data, addr = sock.recvfrom(1024)  # buffer size is 1024 bytes\n",
    "        except socket.timeout:\n",
    "            pass\n",
    "        if data:\n",
    "            received_data += data.decode()\n",
    "\n",
    "    return received_data"
   ]
  },
  {
   "cell_type": "code",
   "execution_count": 5,
   "metadata": {},
   "outputs": [
    {
     "name": "stdout",
     "output_type": "stream",
     "text": [
      "Waiting to receive data...\n"
     ]
    },
    {
     "ename": "KeyboardInterrupt",
     "evalue": "",
     "output_type": "error",
     "traceback": [
      "\u001b[0;31m---------------------------------------------------------------------------\u001b[0m",
      "\u001b[0;31mKeyboardInterrupt\u001b[0m                         Traceback (most recent call last)",
      "\u001b[0;32m<ipython-input-5-f0f9024bf486>\u001b[0m in \u001b[0;36m<module>\u001b[0;34m()\u001b[0m\n\u001b[1;32m      7\u001b[0m     \u001b[0margs\u001b[0m \u001b[0;34m=\u001b[0m \u001b[0mparser\u001b[0m\u001b[0;34m.\u001b[0m\u001b[0mparse_args\u001b[0m\u001b[0;34m(\u001b[0m\u001b[0;34m)\u001b[0m\u001b[0;34m\u001b[0m\u001b[0m\n\u001b[1;32m      8\u001b[0m     \u001b[0mprint\u001b[0m\u001b[0;34m(\u001b[0m\u001b[0;34m\"Waiting to receive data...\"\u001b[0m\u001b[0;34m)\u001b[0m\u001b[0;34m\u001b[0m\u001b[0m\n\u001b[0;32m----> 9\u001b[0;31m     \u001b[0mreceived_data\u001b[0m \u001b[0;34m=\u001b[0m \u001b[0mudp_receiver\u001b[0m\u001b[0;34m(\u001b[0m\u001b[0margs\u001b[0m\u001b[0;34m.\u001b[0m\u001b[0mrecvIP\u001b[0m\u001b[0;34m,\u001b[0m \u001b[0margs\u001b[0m\u001b[0;34m.\u001b[0m\u001b[0mrecvPort\u001b[0m\u001b[0;34m)\u001b[0m\u001b[0;34m\u001b[0m\u001b[0m\n\u001b[0m\u001b[1;32m     10\u001b[0m \u001b[0;34m\u001b[0m\u001b[0m\n\u001b[1;32m     11\u001b[0m     \u001b[0;32mfor\u001b[0m \u001b[0mpkt\u001b[0m \u001b[0;32min\u001b[0m \u001b[0mjson\u001b[0m\u001b[0;34m.\u001b[0m\u001b[0mloads\u001b[0m\u001b[0;34m(\u001b[0m\u001b[0mreceived_data\u001b[0m\u001b[0;34m)\u001b[0m\u001b[0;34m:\u001b[0m\u001b[0;34m\u001b[0m\u001b[0m\n",
      "\u001b[0;32m<ipython-input-4-f2c3758fdc49>\u001b[0m in \u001b[0;36mudp_receiver\u001b[0;34m(udp_ip, udp_port)\u001b[0m\n\u001b[1;32m      9\u001b[0m         \u001b[0mdata\u001b[0m \u001b[0;34m=\u001b[0m \u001b[0;34m''\u001b[0m\u001b[0;34m\u001b[0m\u001b[0m\n\u001b[1;32m     10\u001b[0m         \u001b[0;32mtry\u001b[0m\u001b[0;34m:\u001b[0m\u001b[0;34m\u001b[0m\u001b[0m\n\u001b[0;32m---> 11\u001b[0;31m             \u001b[0mdata\u001b[0m\u001b[0;34m,\u001b[0m \u001b[0maddr\u001b[0m \u001b[0;34m=\u001b[0m \u001b[0msock\u001b[0m\u001b[0;34m.\u001b[0m\u001b[0mrecvfrom\u001b[0m\u001b[0;34m(\u001b[0m\u001b[0;36m1024\u001b[0m\u001b[0;34m)\u001b[0m  \u001b[0;31m# buffer size is 1024 bytes\u001b[0m\u001b[0;34m\u001b[0m\u001b[0m\n\u001b[0m\u001b[1;32m     12\u001b[0m         \u001b[0;32mexcept\u001b[0m \u001b[0msocket\u001b[0m\u001b[0;34m.\u001b[0m\u001b[0mtimeout\u001b[0m\u001b[0;34m:\u001b[0m\u001b[0;34m\u001b[0m\u001b[0m\n\u001b[1;32m     13\u001b[0m             \u001b[0;32mpass\u001b[0m\u001b[0;34m\u001b[0m\u001b[0m\n",
      "\u001b[0;31mKeyboardInterrupt\u001b[0m: "
     ]
    }
   ],
   "source": [
    "if __name__ == '__main__':\n",
    "    parser = argparse.ArgumentParser(description='Creates packet fragments and send via UDP')\n",
    "    parser.add_argument('-f', '--output_filename', help='Output filename', default='received.txt')\n",
    "    parser.add_argument('-ip', '--recvIP', help='receiver IP address', default='127.0.0.1')\n",
    "    parser.add_argument('-port', '--recvPort', help='receiver port number', type=int, default=2001)\n",
    "\n",
    "    args = parser.parse_args()\n",
    "    print(\"Waiting to receive data...\")\n",
    "    received_data = udp_receiver(args.recvIP, args.recvPort)\n",
    "\n",
    "    for pkt in json.loads(received_data):\n",
    "        add_to_storage(pkt)\n",
    "\n",
    "    # printing all received fragments (by ID) to file for verification purpose (AFTER UN-HEXing few fields)\n",
    "    with open(\"recv_fragmented_packets.txt\", 'w+') as myfile:\n",
    "        pprint(packet_storage, myfile)\n",
    "\n",
    "    assembled_data = process_storage()\n",
    "\n",
    "    print(\"\\nWriting the receive assembled data to {}\".format(args.output_filename))\n",
    "    with open(args.output_filename, 'w+') as myfile:\n",
    "        myfile.write(json.loads(assembled_data))"
   ]
  },
  {
   "cell_type": "code",
   "execution_count": null,
   "metadata": {},
   "outputs": [],
   "source": []
  }
 ],
 "metadata": {
  "kernelspec": {
   "display_name": "Python 3",
   "language": "python",
   "name": "python3"
  },
  "language_info": {
   "codemirror_mode": {
    "name": "ipython",
    "version": 3
   },
   "file_extension": ".py",
   "mimetype": "text/x-python",
   "name": "python",
   "nbconvert_exporter": "python",
   "pygments_lexer": "ipython3",
   "version": "3.6.5"
  }
 },
 "nbformat": 4,
 "nbformat_minor": 2
}
