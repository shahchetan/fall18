{
 "cells": [
  {
   "cell_type": "code",
   "execution_count": 29,
   "metadata": {},
   "outputs": [],
   "source": [
    "import struct\n",
    "import socket"
   ]
  },
  {
   "cell_type": "markdown",
   "metadata": {},
   "source": [
    "# Dynamic Host Configuration Protocol\n",
    "\n",
    "The Dynamic Host Configuration Protocol (DHCP) is a network management protocol used on UDP/IP networks whereby a DHCP server dynamically assigns an IP address and other network configuration parameters to each device on a network so they can communicate with other IP networks.A DHCP server enables computers to request IP addresses and networking parameters automatically from the Internet service provider (ISP), reducing the need for a network administrator or a user to manually assign IP addresses to all network devices.In the absence of a DHCP server, a computer or other device on the network needs to be manually assigned an IP address, or to assign itself an APIPA address, which will not enable it to communicate outside its local subnet.\n",
    "\n",
    "DHCP can be implemented on networks ranging in size from home networks to large campus networks and regional Internet service provider networks.A router or a residential gateway can be enabled to act as a DHCP server. Most residential network routers receive a globally unique IP address within the ISP network. Within a local network, a DHCP server assigns a local IP address to each device connected to the network. "
   ]
  },
  {
   "cell_type": "markdown",
   "metadata": {},
   "source": [
    "## DHCP Operation\n",
    "\n",
    "The DHCP employs a connectionless service model, using the User Datagram Protocol (UDP). It is implemented with two UDP port numbers for its operations. *UDP port number 67 is the destination port of a server, and UDP port number 68 is used by the client.*\n",
    "\n",
    "DHCP operations fall into four phases: \n",
    "1. server discovery, \n",
    "2. IP lease offer, \n",
    "3. IP lease request, and \n",
    "4. IP lease acknowledgement. \n",
    "\n",
    "These stages are often abbreviated as **DORA** for discovery, offer, request, and acknowledgement.\n",
    "\n",
    "<img src='images/DHCP_session.png' width=30% >\n",
    "\n",
    "\n",
    "The DHCP operation begins with clients broadcasting a request. If the client and server are on different subnets, a DHCP Helper or DHCP Relay Agent may be used. Clients requesting renewal of an existing lease may communicate directly via UDP unicast, since the client already has an established IP address at that point. Additionally, there is a BROADCAST (B) flag the client can use to indicate in which way (broadcast or unicast) it can receive the DHCPOFFER: 0x8000 for broadcast, 0x0000 for unicast.[5] Usually, the DHCPOFFER is sent through unicast. For those hosts which cannot accept unicast packets before IP addresses are configured, this flag can be used to work around this issue. "
   ]
  },
  {
   "cell_type": "markdown",
   "metadata": {},
   "source": [
    "## DHCP Messag format\n",
    "\n",
    "The following figure shows the DHCP message format:\n",
    "<img src='images/dhcp_format.png' width=30%>\n",
    "\n",
    "This format includes the following fields: http://www.tcpipguide.com/free/t_DHCPMessageFormat.htm#Table_189\n",
    "\n",
    "\n",
    "** Exercise: ** Implement `dhcp_message()` which generates the DHCP packet. Use `struct.pack` (https://docs.python.org/3/library/struct.html) and proper format characters to add different fields to the packet.  \n"
   ]
  },
  {
   "cell_type": "code",
   "execution_count": 30,
   "metadata": {},
   "outputs": [],
   "source": [
    "def dhcp_message(operation_code,\n",
    "                 hardware_type,\n",
    "                 hardware_address_length,\n",
    "                 transaction_identifier,\n",
    "                 client_IP_address,\n",
    "                 your_IP_address,\n",
    "                 server_IP_address,\n",
    "                 gateway_IP_address,\n",
    "                 client_hardware_address\n",
    "                 ):\n",
    "    # make empty binary string\n",
    "    dhcp_message = b''\n",
    "    \n",
    "    # Field name: Operation Code (OP) \n",
    "    # Size: 1 Byte\n",
    "    OP = struct.pack('B',operation_code)\n",
    "    dhcp_message += OP\n",
    "    \n",
    " \n",
    "    # Field name: Hardware Type: HType\n",
    "    # Size: 1 Byte\n",
    "    HType = struct.pack('B',hardware_type)\n",
    "    dhcp_message+= HType\n",
    "    \n",
    "    \n",
    "    # Field name: Hardware Address Length: HLen\n",
    "    # Size: 1 Byte\n",
    "    # Value: 6\n",
    "    HLen = struct.pack('B',hardware_address_length)\n",
    "    dhcp_message+= HLen\n",
    "    \n",
    "    \n",
    "    # Field name: Hops\n",
    "    # Size: 1 Byte\n",
    "    # Value: 0 (no relay nodes)\n",
    "    Hops = struct.pack('B',0)\n",
    "    dhcp_message += Hops\n",
    "    \n",
    "     \n",
    "    \n",
    "    # Field name: Transaction Identifier (XID) \n",
    "    # Size: 4 Byte(s)\n",
    "    # Value: A 32-bit identification field generated by the client,\n",
    "    # to allow it to match up the request with replies received from DHCP servers.\n",
    "    XID = struct.pack('I',transaction_identifier)\n",
    "    dhcp_message += XID\n",
    "    \n",
    "    \n",
    "    # Field name: Seconds (Secs)\n",
    "    # Size: 2 Byte(s)\n",
    "    # Value: For DHCP, it is defined as the number of seconds elapsed \n",
    "    # since a client began an attempt to acquire or renew a lease\n",
    "    # Value: 0\n",
    "    Secs = struct.pack('H',0)\n",
    "    dhcp_message += Secs\n",
    "    \n",
    "    # Field name: Flags (Flags)\n",
    "    # Size: 2 Byte(s)\n",
    "    # Value: 0\n",
    "    Flags = struct.pack('H',0)\n",
    "    dhcp_message += Flags\n",
    "    \n",
    "    # Field name: Client IP Address (CIAddr)\n",
    "    # Size: 4 Byte(s)\n",
    "    # Hint: use  socket.inet_aton(ip_string)\n",
    "    CIAddr = socket.inet_aton(client_IP_address)\n",
    "    dhcp_message+= CIAddr\n",
    "    \n",
    "    # Field name: Your IP Address (YIAddr)\n",
    "    # Size: 4 Byte(s)\n",
    "    # Hint: use  socket.inet_aton(ip_string)\n",
    "    YIAddr = socket.inet_aton(your_IP_address)\n",
    "    dhcp_message+= YIAddr\n",
    "    \n",
    "    \n",
    "    # Field name: Server IP Address (SIAddr)\n",
    "    # Size: 4 Byte(s)\n",
    "    # Hint: use  socket.inet_aton(ip_string)\n",
    "    SIAddr = socket.inet_aton(server_IP_address)\n",
    "    dhcp_message+= SIAddr\n",
    "    \n",
    "    # Field name: Gateway IP Address (GIAddr)\n",
    "    # Size: 4 Byte(s)\n",
    "    # Hint: use  socket.inet_aton(ip_string)\n",
    "    GIAddr = socket.inet_aton(gateway_IP_address)\n",
    "    dhcp_message+= GIAddr\n",
    "    \n",
    "     # Field name: Client Hardware Address: (CHAddr)\n",
    "    # Size: 16 Byte(s)\n",
    "    # the first 6 bytes are for the MAC address\n",
    "    # Create empty binary string\n",
    "    CHAddr = b''\n",
    "    for mac_field in client_hardware_address.split(':'):\n",
    "        # convert Hex to int and pack it as one byte\n",
    "        CHAddr += struct.pack('B', int(mac_field,16))\n",
    "    \n",
    "    # the rest of the bytes will be set to zero\n",
    "    for i in range(10):\n",
    "        CHAddr += struct.pack('B',0)\n",
    "    \n",
    "    dhcp_message+= CHAddr\n",
    "    \n",
    "    \n",
    "    return dhcp_message"
   ]
  },
  {
   "cell_type": "code",
   "execution_count": 31,
   "metadata": {},
   "outputs": [
    {
     "name": "stdout",
     "output_type": "stream",
     "text": [
      "dhcp message length: 44 bytes\n",
      "HW MAC check (1):  True\n"
     ]
    }
   ],
   "source": [
    "dhcp_msg = dhcp_message(operation_code = 1,\n",
    "                            hardware_type = 1,\n",
    "                            hardware_address_length = 6,\n",
    "                            transaction_identifier=1206,\n",
    "                            client_IP_address='0.0.0.0',\n",
    "                            your_IP_address='0.0.0.0',\n",
    "                            server_IP_address='0.0.0.0',\n",
    "                            gateway_IP_address='0.0.0.0',\n",
    "                            client_hardware_address='fe:1d:20:1c:f6:8d'\n",
    "                           )\n",
    "client_hardware_address='fe:1d:20:1c:f6:8d'\n",
    "print('dhcp message length: {0} bytes'.format(len(dhcp_msg)))\n",
    "_mac = []\n",
    "for i in range(-16,-10):\n",
    "    _mac.append(hex(struct.unpack('B',dhcp_msg[i:i+1])[0]))\n",
    "_mac  = ':'.join(_mac).replace('0x','')\n",
    "print('HW MAC check (1): ', client_hardware_address == _mac)\n"
   ]
  },
  {
   "cell_type": "markdown",
   "metadata": {},
   "source": [
    "** Expected output: ** \n",
    "\n",
    "- dhcp message length: 44 bytes\n",
    "- HW MAC check (1):  True\n"
   ]
  },
  {
   "cell_type": "markdown",
   "metadata": {},
   "source": [
    "## DHCP Discovery\n",
    "The DHCP client broadcasts a DHCPDISCOVER message on the network subnet using the **destination address 255.255.255.255 or the specific subnet broadcast address**. A DHCP client may also request its last known IP address. If the client remains connected to the same network, the server may grant the request. Otherwise, it depends whether the server is set up as authoritative or not. An authoritative server denies the request, causing the client to issue a new request. A non-authoritative server simply ignores the request, leading to an implementation-dependent timeout for the client to expire the request and ask for a new IP address.\n",
    "\n",
    "** Exercise: ** Generate a DHCPDISCOVER message using `dhcp_message(:)` implemented above. Assume that this DHCP discovery message is sent over Ethernet LAN. \n",
    "\n"
   ]
  },
  {
   "cell_type": "code",
   "execution_count": 32,
   "metadata": {},
   "outputs": [
    {
     "name": "stdout",
     "output_type": "stream",
     "text": [
      "Sanity Check:  True\n"
     ]
    }
   ],
   "source": [
    "operation_code = 1\n",
    "hardware_type = 1\n",
    "hardware_address_length = 6\n",
    "transaction_identifier = 1200\n",
    "client_IP_address = '0.0.0.0'\n",
    "your_IP_address = '0.0.0.0'\n",
    "server_IP_address = '0.0.0.0'\n",
    "gateway_IP_address = '0.0.0.0'\n",
    "client_hardware_address='fe:1d:20:1c:f6:8d'\n",
    "DHCPDISCOVER = dhcp_message(operation_code = operation_code,\n",
    "                            hardware_type = hardware_type,\n",
    "                            hardware_address_length = hardware_address_length,\n",
    "                            transaction_identifier=1206,\n",
    "                            client_IP_address=client_IP_address,\n",
    "                            your_IP_address=your_IP_address,\n",
    "                            server_IP_address=server_IP_address,\n",
    "                            gateway_IP_address=gateway_IP_address,\n",
    "                            client_hardware_address=client_hardware_address\n",
    "                           )\n",
    "\n",
    "\n",
    "test_HLen = struct.unpack('B', DHCPDISCOVER[1:2])[0]\n",
    "print('Sanity Check: ', test_HLen == hardware_type == 1)\n"
   ]
  },
  {
   "cell_type": "markdown",
   "metadata": {},
   "source": [
    "** Expected output: ** Sanity Check:  True"
   ]
  },
  {
   "cell_type": "markdown",
   "metadata": {},
   "source": [
    "### DHCP offer\n",
    "\n",
    "When a DHCP server receives a DHCPDISCOVER message from a client, which is an IP address lease request, the DHCP server reserves an IP address for the client and makes a lease offer by sending a DHCPOFFER message to the client. This message contains the client's client id (traditionally a MAC address), the IP address that the server is offering, the subnet mask, the lease duration, and the IP address of the DHCP server making the offer. \n",
    "\n",
    "\n",
    "** Exercise: ** Generate DHCPOFFER message using `dhcp_message(:)`. In this scenario, the server at 192.168.20.1, offers the client an IP address of 192.168.20.20 "
   ]
  },
  {
   "cell_type": "code",
   "execution_count": 33,
   "metadata": {},
   "outputs": [
    {
     "name": "stdout",
     "output_type": "stream",
     "text": [
      "Sanity Check (1):  True\n",
      "Sanity Check (2):  True\n",
      "Sanity Check (3):  True\n"
     ]
    }
   ],
   "source": [
    "operation_code = 1\n",
    "hardware_type = 1\n",
    "hardware_address_length = 6\n",
    "transaction_identifier = 1200\n",
    "client_IP_address = '0.0.0.0'\n",
    "your_IP_address = '192.168.20.20'\n",
    "server_IP_address = '192.168.20.1'\n",
    "gateway_IP_address = '0.0.0.0'\n",
    "client_hardware_address='fe:1d:20:1c:f6:8d'\n",
    "DHCPOFFER = dhcp_message(operation_code = operation_code,\n",
    "                            hardware_type = hardware_type,\n",
    "                            hardware_address_length = hardware_address_length,\n",
    "                            transaction_identifier=1206,\n",
    "                            client_IP_address=client_IP_address,\n",
    "                            your_IP_address=your_IP_address,\n",
    "                            server_IP_address=server_IP_address,\n",
    "                            gateway_IP_address=gateway_IP_address,\n",
    "                            client_hardware_address=client_hardware_address\n",
    "                           )\n",
    "\n",
    "test = socket.inet_ntoa(DHCPOFFER[12:16])\n",
    "print('Sanity Check (1): ', test == '0.0.0.0')\n",
    "test = socket.inet_ntoa(DHCPOFFER[16:20])\n",
    "print('Sanity Check (2): ', test == '192.168.20.20')\n",
    "test = socket.inet_ntoa(DHCPOFFER[20:24])\n",
    "print('Sanity Check (3): ', test == '192.168.20.1')"
   ]
  },
  {
   "cell_type": "markdown",
   "metadata": {},
   "source": [
    "** Expected output: ** \n",
    "\n",
    "- Sanity Check (1):  True\n",
    "- Sanity Check (2):  True\n",
    "- Sanity Check (3):  True\n",
    "\n"
   ]
  },
  {
   "cell_type": "markdown",
   "metadata": {},
   "source": [
    "### DHCP request\n",
    "In response to the DHCP offer, the client replies with a DHCPREQUEST message, broadcast to the server,[a] requesting the offered address. A client can receive DHCP offers from multiple servers, but it will accept only one DHCP offer. Based on required server identification option in the request and broadcast messaging, servers are informed whose offer the client has accepted.\n",
    "\n",
    "** Exercise: ** Generate DHCPREQUEST message using `dhcp_message(:)`. Consider this is the DHCPREQUEST in response to the DHCPOFFER above. \n"
   ]
  },
  {
   "cell_type": "code",
   "execution_count": 34,
   "metadata": {},
   "outputs": [
    {
     "name": "stdout",
     "output_type": "stream",
     "text": [
      "Sanity Check (1):  True\n",
      "Sanity Check (2):  True\n",
      "Sanity Check (3):  True\n"
     ]
    }
   ],
   "source": [
    "operation_code = 1\n",
    "hardware_type = 1\n",
    "hardware_address_length = 6\n",
    "transaction_identifier = 1200\n",
    "client_IP_address = '0.0.0.0'\n",
    "your_IP_address = '0.0.0.0'\n",
    "server_IP_address = '192.168.20.1'\n",
    "gateway_IP_address = '0.0.0.0'\n",
    "client_hardware_address='fe:1d:20:1c:f6:8d'\n",
    "DHCPREQUEST = dhcp_message(operation_code = operation_code,\n",
    "                            hardware_type = hardware_type,\n",
    "                            hardware_address_length = hardware_address_length,\n",
    "                            transaction_identifier=1206,\n",
    "                            client_IP_address=client_IP_address,\n",
    "                            your_IP_address=your_IP_address,\n",
    "                            server_IP_address=server_IP_address,\n",
    "                            gateway_IP_address=gateway_IP_address,\n",
    "                            client_hardware_address=client_hardware_address\n",
    "                           )\n",
    "\n",
    "test = socket.inet_ntoa(DHCPREQUEST[12:16])\n",
    "print('Sanity Check (1): ', test == '0.0.0.0')\n",
    "test = socket.inet_ntoa(DHCPREQUEST[16:20])\n",
    "print('Sanity Check (2): ', test == '0.0.0.0')\n",
    "test = socket.inet_ntoa(DHCPREQUEST[20:24])\n",
    "print('Sanity Check (3): ', test == '192.168.20.1')"
   ]
  },
  {
   "cell_type": "markdown",
   "metadata": {},
   "source": [
    "** Expected output: ** \n",
    "\n",
    "- Sanity Check (1):  True\n",
    "- Sanity Check (2):  True\n",
    "- Sanity Check (3):  True\n"
   ]
  },
  {
   "cell_type": "markdown",
   "metadata": {},
   "source": [
    "### DHCP acknowledgement\n",
    "\n",
    "When the DHCP server receives the DHCPREQUEST message from the client, the configuration process enters its final phase. The acknowledgement phase involves sending a DHCPACK packet to the client. This packet includes the lease duration and any other configuration information that the client might have requested. At this point, the IP configuration process is completed. *The protocol expects the DHCP client to configure its network interface with the negotiated parameters.*\n",
    "\n",
    "** Exercise: ** Generate DHCACK message using `dhcp_message(:)`. Consider this is the DHCACK\n",
    "in response to the DHCPREQUEST above. \n"
   ]
  },
  {
   "cell_type": "code",
   "execution_count": 35,
   "metadata": {},
   "outputs": [
    {
     "name": "stdout",
     "output_type": "stream",
     "text": [
      "Sanity Check (1):  True\n",
      "Sanity Check (2):  True\n",
      "Sanity Check (3):  True\n"
     ]
    }
   ],
   "source": [
    "operation_code = 1\n",
    "hardware_type = 1\n",
    "hardware_address_length = 6\n",
    "transaction_identifier = 1200\n",
    "client_IP_address = '0.0.0.0'\n",
    "your_IP_address = '192.168.20.20'\n",
    "server_IP_address = '192.168.20.1'\n",
    "gateway_IP_address = '0.0.0.0'\n",
    "client_hardware_address='fe:1d:20:1c:f6:8d'\n",
    "DHCACK = dhcp_message(operation_code = operation_code,\n",
    "                            hardware_type = hardware_type,\n",
    "                            hardware_address_length = hardware_address_length,\n",
    "                            transaction_identifier=1206,\n",
    "                            client_IP_address=client_IP_address,\n",
    "                            your_IP_address=your_IP_address,\n",
    "                            server_IP_address=server_IP_address,\n",
    "                            gateway_IP_address=gateway_IP_address,\n",
    "                            client_hardware_address=client_hardware_address\n",
    "                           )\n",
    "\n",
    "test = socket.inet_ntoa(DHCACK[12:16])\n",
    "print('Sanity Check (1): ', test == '0.0.0.0')\n",
    "test = socket.inet_ntoa(DHCACK[16:20])\n",
    "print('Sanity Check (2): ', test == '192.168.20.20')\n",
    "test = socket.inet_ntoa(DHCACK[20:24])\n",
    "print('Sanity Check (3): ', test == '192.168.20.1')"
   ]
  },
  {
   "cell_type": "code",
   "execution_count": null,
   "metadata": {},
   "outputs": [],
   "source": []
  }
 ],
 "metadata": {
  "kernelspec": {
   "display_name": "Python 3",
   "language": "python",
   "name": "python3"
  },
  "language_info": {
   "codemirror_mode": {
    "name": "ipython",
    "version": 3
   },
   "file_extension": ".py",
   "mimetype": "text/x-python",
   "name": "python",
   "nbconvert_exporter": "python",
   "pygments_lexer": "ipython3",
   "version": "3.6.5"
  }
 },
 "nbformat": 4,
 "nbformat_minor": 2
}
