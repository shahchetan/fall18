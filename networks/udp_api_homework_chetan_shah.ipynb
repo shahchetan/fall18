{
 "cells": [
  {
   "cell_type": "code",
   "execution_count": 144,
   "metadata": {},
   "outputs": [],
   "source": [
    "from bitstring import BitArray\n",
    "import struct\n",
    "if __name__ == '__main__':\n",
    "    from test_udp_api import *"
   ]
  },
  {
   "cell_type": "markdown",
   "metadata": {},
   "source": [
    "# User Datagram Protocol\n",
    "UDP uses a simple connectionless communication model with a minimum of protocol mechanism. UDP provides checksums for data integrity, and port numbers for addressing different functions at the source and destination of the datagram. It has no handshaking dialogues, and thus exposes the user's program to any unreliability of the underlying network; There is no guarantee of delivery, ordering, or duplicate protection. \n",
    "\n",
    "UDP is suitable for purposes where error checking and correction are either not necessary or are performed in the application; UDP avoids the overhead of such processing in the protocol stack. Time-sensitive applications often use UDP because dropping packets is preferable to waiting for packets delayed due to retransmission, which may not be an option in a real-time system."
   ]
  },
  {
   "cell_type": "markdown",
   "metadata": {},
   "source": [
    "<h2><span class=\"mw-headline\" id=\"Attributes\">Attributes</h2>\n",
    "<p>UDP is a simple message-oriented <a href=\"/wiki/Transport_layer\" title=\"Transport layer\">transport layer</a> protocol that is documented in <link rel=\"mw-deduplicated-inline-style\" href=\"mw-data:TemplateStyles:r861714446\"/><a href=\"/wiki/Request_for_Comments_(identifier)\" class=\"mw-redirect\" title=\"Request for Comments (identifier)\">RFC</a>&#160;<a rel=\"nofollow\" class=\"external text\" href=\"https://tools.ietf.org/html/rfc768\">768</a>. Although UDP provides integrity verification (via <a href=\"/wiki/Checksum\" title=\"Checksum\">checksum</a>) of the header and payload,<sup id=\"cite_ref-clark_2-0\" class=\"reference\"><a href=\"#cite_note-clark-2\">&#91;2&#93;</a></sup> it provides no guarantees to the <a href=\"/wiki/Upper_layer_protocol\" class=\"mw-redirect\" title=\"Upper layer protocol\">upper layer protocol</a> for message delivery and the UDP layer retains no state of UDP messages once sent. For this reason, UDP sometimes is referred to as <i><a href=\"/wiki/Reliability_(computer_networking)\" title=\"Reliability (computer networking)\">Unreliable</a> Datagram Protocol</i>.<sup id=\"cite_ref-3\" class=\"reference\"><a href=\"#cite_note-3\">&#91;3&#93;</a></sup> If transmission reliability is desired, it must be implemented in the user's application.\n",
    "</p><p>A number of UDP's attributes make it especially suited for certain applications.\n",
    "</p>\n",
    "<ul><li>It is <i>transaction-oriented</i>, suitable for simple query-response protocols such as the <a href=\"/wiki/Domain_Name_System\" title=\"Domain Name System\">Domain Name System</a> or the <a href=\"/wiki/Network_Time_Protocol\" title=\"Network Time Protocol\">Network Time Protocol</a>.</li>\n",
    "<li>It provides <i><a href=\"/wiki/Datagram\" title=\"Datagram\">datagrams</a></i>, suitable for modeling other protocols such as <a href=\"/wiki/IP_tunneling\" class=\"mw-redirect\" title=\"IP tunneling\">IP tunneling</a> or <a href=\"/wiki/Remote_procedure_call\" title=\"Remote procedure call\">remote procedure call</a> and the <a href=\"/wiki/Network_File_System\" title=\"Network File System\">Network File System</a>.</li>\n",
    "<li>It is <i>simple</i>, suitable for <a href=\"/wiki/Bootstrapping\" title=\"Bootstrapping\">bootstrapping</a> or other purposes without a full <a href=\"/wiki/Protocol_stack\" title=\"Protocol stack\">protocol stack</a>, such as the <a href=\"/wiki/Dynamic_Host_Configuration_Protocol\" title=\"Dynamic Host Configuration Protocol\">DHCP</a> and <a href=\"/wiki/Trivial_File_Transfer_Protocol\" title=\"Trivial File Transfer Protocol\">Trivial File Transfer Protocol</a>.</li>\n",
    "<li>It is <i>stateless</i>, suitable for very large numbers of clients, such as in <a href=\"/wiki/Streaming_media\" title=\"Streaming media\">streaming media</a> applications such as <a href=\"/wiki/IPTV\" title=\"IPTV\">IPTV</a>.</li>\n",
    "<li>The <i>lack of retransmission delays</i> makes it suitable for real-time applications such as <a href=\"/wiki/Voice_over_IP\" title=\"Voice over IP\">Voice over IP</a>, <a href=\"/wiki/Online_games\" class=\"mw-redirect\" title=\"Online games\">online games</a>, and many protocols using <a href=\"/wiki/Real_Time_Streaming_Protocol\" title=\"Real Time Streaming Protocol\">Real Time Streaming Protocol</a>.</li>\n",
    "<li>Because it supports <a href=\"/wiki/Multicast\" title=\"Multicast\">multicast</a>, it is suitable for broadcast information such as in many kinds of <a href=\"/wiki/Service_discovery\" title=\"Service discovery\">service discovery</a> and shared information such as <a href=\"/wiki/Precision_Time_Protocol\" title=\"Precision Time Protocol\">Precision Time Protocol</a> and <a href=\"/wiki/Routing_Information_Protocol\" title=\"Routing Information Protocol\">Routing Information Protocol</a>.</li></ul>\n"
   ]
  },
  {
   "cell_type": "markdown",
   "metadata": {},
   "source": [
    "<h2> Ports </h2>\n",
    "Applications can use datagram sockets to establish host-to-host communications. An application binds a socket to its endpoint of data transmission, which is a combination of an IP address and a port. In this way, UDP provides application multiplexing. A port is a software structure that is identified by the port number, a 16 bit integer value, allowing for port numbers between 0 and 65535. Port 0 is reserved, but is a permissible source port value if the sending process does not expect messages in response.\n",
    "\n",
    "The Internet Assigned Numbers Authority (IANA) has divided port numbers into three ranges. Port numbers 0 through 1023 are used for common, well-known services. On Unix-like operating systems, using one of these ports requires superuser operating permission. Port numbers 1024 through 49151 are the registered ports used for IANA-registered services. Ports 49152 through 65535 are dynamic ports that are not officially designated for any specific service, and may be used for any purpose. These may also be used as ephemeral ports, which software running on the host may use to dynamically create communications endpoints as needed.\n"
   ]
  },
  {
   "cell_type": "markdown",
   "metadata": {},
   "source": [
    "<h2><span class=\"mw-headline\" id=\"Packet_structure\">Packet structure</span></h2>\n",
    "<table class=\"wikitable\" style=\"margin: 0 auto; text-align: center;\">\n",
    "<caption>UDP Header\n",
    "</caption>\n",
    "<tbody><tr>\n",
    "<th style=\"border-bottom:none; border-right:none;\"><i>Offsets</i>\n",
    "</th>\n",
    "<th style=\"border-left:none;\"><a href=\"/wiki/Octet_(computing)\" title=\"Octet (computing)\">Octet</a>\n",
    "</th>\n",
    "<th colspan=\"8\">0\n",
    "</th>\n",
    "<th colspan=\"8\">1\n",
    "</th>\n",
    "<th colspan=\"8\">2\n",
    "</th>\n",
    "<th colspan=\"8\">3\n",
    "</th></tr>\n",
    "<tr>\n",
    "<th style=\"border-top: none\"><a href=\"/wiki/Octet_(computing)\" title=\"Octet (computing)\">Octet</a>\n",
    "</th>\n",
    "<th><style data-mw-deduplicate=\"TemplateStyles:r861301850\">.mw-parser-output .monospaced{font-family:monospace,monospace}</style><span class=\"monospaced\"><a href=\"/wiki/Bit\" title=\"Bit\">Bit</a></span></th>\n",
    "<th><link rel=\"mw-deduplicated-inline-style\" href=\"mw-data:TemplateStyles:r861301850\"/><span class=\"monospaced\">&#160;0</span></th>\n",
    "<th><link rel=\"mw-deduplicated-inline-style\" href=\"mw-data:TemplateStyles:r861301850\"/><span class=\"monospaced\">&#160;1</span></th>\n",
    "<th><link rel=\"mw-deduplicated-inline-style\" href=\"mw-data:TemplateStyles:r861301850\"/><span class=\"monospaced\">&#160;2</span></th>\n",
    "<th><link rel=\"mw-deduplicated-inline-style\" href=\"mw-data:TemplateStyles:r861301850\"/><span class=\"monospaced\">&#160;3</span></th>\n",
    "<th><link rel=\"mw-deduplicated-inline-style\" href=\"mw-data:TemplateStyles:r861301850\"/><span class=\"monospaced\">&#160;4</span></th>\n",
    "<th><link rel=\"mw-deduplicated-inline-style\" href=\"mw-data:TemplateStyles:r861301850\"/><span class=\"monospaced\">&#160;5</span></th>\n",
    "<th><link rel=\"mw-deduplicated-inline-style\" href=\"mw-data:TemplateStyles:r861301850\"/><span class=\"monospaced\">&#160;6</span></th>\n",
    "<th><link rel=\"mw-deduplicated-inline-style\" href=\"mw-data:TemplateStyles:r861301850\"/><span class=\"monospaced\">&#160;7</span></th>\n",
    "<th><link rel=\"mw-deduplicated-inline-style\" href=\"mw-data:TemplateStyles:r861301850\"/><span class=\"monospaced\">&#160;8</span></th>\n",
    "<th><link rel=\"mw-deduplicated-inline-style\" href=\"mw-data:TemplateStyles:r861301850\"/><span class=\"monospaced\">&#160;9</span></th>\n",
    "<th><link rel=\"mw-deduplicated-inline-style\" href=\"mw-data:TemplateStyles:r861301850\"/><span class=\"monospaced\">10</span></th>\n",
    "<th><link rel=\"mw-deduplicated-inline-style\" href=\"mw-data:TemplateStyles:r861301850\"/><span class=\"monospaced\">11</span></th>\n",
    "<th><link rel=\"mw-deduplicated-inline-style\" href=\"mw-data:TemplateStyles:r861301850\"/><span class=\"monospaced\">12</span></th>\n",
    "<th><link rel=\"mw-deduplicated-inline-style\" href=\"mw-data:TemplateStyles:r861301850\"/><span class=\"monospaced\">13</span></th>\n",
    "<th><link rel=\"mw-deduplicated-inline-style\" href=\"mw-data:TemplateStyles:r861301850\"/><span class=\"monospaced\">14</span></th>\n",
    "<th><link rel=\"mw-deduplicated-inline-style\" href=\"mw-data:TemplateStyles:r861301850\"/><span class=\"monospaced\">15</span></th>\n",
    "<th><link rel=\"mw-deduplicated-inline-style\" href=\"mw-data:TemplateStyles:r861301850\"/><span class=\"monospaced\">16</span></th>\n",
    "<th><link rel=\"mw-deduplicated-inline-style\" href=\"mw-data:TemplateStyles:r861301850\"/><span class=\"monospaced\">17</span></th>\n",
    "<th><link rel=\"mw-deduplicated-inline-style\" href=\"mw-data:TemplateStyles:r861301850\"/><span class=\"monospaced\">18</span></th>\n",
    "<th><link rel=\"mw-deduplicated-inline-style\" href=\"mw-data:TemplateStyles:r861301850\"/><span class=\"monospaced\">19</span></th>\n",
    "<th><link rel=\"mw-deduplicated-inline-style\" href=\"mw-data:TemplateStyles:r861301850\"/><span class=\"monospaced\">20</span></th>\n",
    "<th><link rel=\"mw-deduplicated-inline-style\" href=\"mw-data:TemplateStyles:r861301850\"/><span class=\"monospaced\">21</span></th>\n",
    "<th><link rel=\"mw-deduplicated-inline-style\" href=\"mw-data:TemplateStyles:r861301850\"/><span class=\"monospaced\">22</span></th>\n",
    "<th><link rel=\"mw-deduplicated-inline-style\" href=\"mw-data:TemplateStyles:r861301850\"/><span class=\"monospaced\">23</span></th>\n",
    "<th><link rel=\"mw-deduplicated-inline-style\" href=\"mw-data:TemplateStyles:r861301850\"/><span class=\"monospaced\">24</span></th>\n",
    "<th><link rel=\"mw-deduplicated-inline-style\" href=\"mw-data:TemplateStyles:r861301850\"/><span class=\"monospaced\">25</span></th>\n",
    "<th><link rel=\"mw-deduplicated-inline-style\" href=\"mw-data:TemplateStyles:r861301850\"/><span class=\"monospaced\">26</span></th>\n",
    "<th><link rel=\"mw-deduplicated-inline-style\" href=\"mw-data:TemplateStyles:r861301850\"/><span class=\"monospaced\">27</span></th>\n",
    "<th><link rel=\"mw-deduplicated-inline-style\" href=\"mw-data:TemplateStyles:r861301850\"/><span class=\"monospaced\">28</span></th>\n",
    "<th><link rel=\"mw-deduplicated-inline-style\" href=\"mw-data:TemplateStyles:r861301850\"/><span class=\"monospaced\">29</span></th>\n",
    "<th><link rel=\"mw-deduplicated-inline-style\" href=\"mw-data:TemplateStyles:r861301850\"/><span class=\"monospaced\">30</span></th>\n",
    "<th><link rel=\"mw-deduplicated-inline-style\" href=\"mw-data:TemplateStyles:r861301850\"/><span class=\"monospaced\">31</span>\n",
    "</th></tr>\n",
    "<tr>\n",
    "<th>0\n",
    "</th>\n",
    "<th><link rel=\"mw-deduplicated-inline-style\" href=\"mw-data:TemplateStyles:r861301850\"/><span class=\"monospaced\">&#160;0</span>\n",
    "</th>\n",
    "<td colspan=\"16\" style=\"background:#fdd;\">Source port</td>\n",
    "<td colspan=\"16\">Destination port\n",
    "</td></tr>\n",
    "<tr>\n",
    "<th>4\n",
    "</th>\n",
    "<th><link rel=\"mw-deduplicated-inline-style\" href=\"mw-data:TemplateStyles:r861301850\"/><span class=\"monospaced\">32</span>\n",
    "</th>\n",
    "<td colspan=\"16\">Length</td>\n",
    "<td colspan=\"16\" style=\"background:#fdd;\">Checksum\n",
    "</td></tr></tbody></table>\n",
    "<p>The UDP header consists of 4 fields, each of which is 2 bytes (16 bits).<sup id=\"cite_ref-kuroseross_1-1\" class=\"reference\"><a href=\"#cite_note-kuroseross-1\">&#91;1&#93;</a></sup> The use of the fields \"Checksum\" and \"Source port\" is optional in IPv4 (pink background in table). In IPv6 only the source port is optional (see below).\n",
    "</p>\n",
    "<dl><dt>Source port number</dt>\n",
    "<dd>This field identifies the sender's port when meaningful and should be assumed to be the port to reply to if needed. If not used, then it should be zero. If the source host is the client, the port number is likely to be an ephemeral port number. If the source host is the server, the port number is likely to be a well-known port number.<sup id=\"cite_ref-forouzan_4-2\" class=\"reference\"><a href=\"#cite_note-forouzan-4\">&#91;4&#93;</a></sup></dd>\n",
    "<dt>Destination port number</dt>\n",
    "<dd>This field identifies the receiver's port and is required. Similar to source port number, if the client is the destination host then the port number will likely be an ephemeral port number and if the destination host is the server then the port number will likely be a well-known port number.<sup id=\"cite_ref-forouzan_4-3\" class=\"reference\"><a href=\"#cite_note-forouzan-4\">&#91;4&#93;</a></sup></dd>\n",
    "<dt>Length</dt>\n",
    "<dd>A field that specifies the length in bytes of the UDP header and UDP data. The minimum length is 8 bytes because that is the length of the header. The field size sets a theoretical limit of 65,535 bytes (8 byte header + 65,527 bytes of data) for a UDP datagram. However the actual limit for the data length, which is imposed by the underlying <a href=\"/wiki/IPv4\" title=\"IPv4\">IPv4</a> protocol, is 65,507 bytes (65,535 − 8 byte UDP header − 20 byte <a href=\"/wiki/IPv4_header\" class=\"mw-redirect\" title=\"IPv4 header\">IP header</a>).<sup id=\"cite_ref-forouzan_4-4\" class=\"reference\"><a href=\"#cite_note-forouzan-4\">&#91;4&#93;</a></sup></dd>\n",
    "<dd>In IPv6 <a href=\"/wiki/Jumbogram\" title=\"Jumbogram\">jumbograms</a> it is possible to have UDP packets of size greater than 65,535 bytes.<sup id=\"cite_ref-5\" class=\"reference\"><a href=\"#cite_note-5\">&#91;5&#93;</a></sup>  <link rel=\"mw-deduplicated-inline-style\" href=\"mw-data:TemplateStyles:r861714446\"/><a href=\"/wiki/Request_for_Comments_(identifier)\" class=\"mw-redirect\" title=\"Request for Comments (identifier)\">RFC</a>&#160;<a rel=\"nofollow\" class=\"external text\" href=\"https://tools.ietf.org/html/rfc2675\">2675</a> specifies that the length field is set to zero if the length of the UDP header plus UDP data is greater than 65,535.</dd>\n",
    "<dt>Checksum</dt>\n",
    "<dd>The <a href=\"/wiki/Checksum\" title=\"Checksum\">checksum</a> field may be used for error-checking of the header and data. This field is optional in IPv4, and mandatory in IPv6.<sup id=\"cite_ref-rfc2460_6-0\" class=\"reference\"><a href=\"#cite_note-rfc2460-6\">&#91;6&#93;</a></sup> The field carries all-zeros if unused.<sup id=\"cite_ref-rfc768_7-0\" class=\"reference\"><a href=\"#cite_note-rfc768-7\">&#91;7&#93;</a></sup></dd></dl>\n"
   ]
  },
  {
   "cell_type": "markdown",
   "metadata": {},
   "source": [
    "## Checksum\n",
    "Checksum of a block of data is the one's complement of the 16-bit sum of the block.\n",
    "\n",
    "**Exercise:** implement `calculate_one_complement()` to compute the one's complement of the input. Recall that The ones' complement form of a negative binary number is the bitwise NOT applied to it."
   ]
  },
  {
   "cell_type": "code",
   "execution_count": 145,
   "metadata": {},
   "outputs": [],
   "source": [
    "def calculate_one_complement(input_value):\n",
    "    # make an empty bitarray with size of input_byte\n",
    "    output = BitArray(len(input_value))\n",
    "\n",
    "    # NOT every bit of the input to the output\n",
    "    for i,x in enumerate(input_value):\n",
    "        output[i] = not x\n",
    "\n",
    "    return output"
   ]
  },
  {
   "cell_type": "code",
   "execution_count": 146,
   "metadata": {},
   "outputs": [
    {
     "name": "stdout",
     "output_type": "stream",
     "text": [
      "Sanity Check (calculate_one_complement):  True\n"
     ]
    }
   ],
   "source": [
    "if __name__ == '__main__':\n",
    "    print('Sanity Check (calculate_one_complement): ', test_calculate_one_complement(calculate_one_complement))"
   ]
  },
  {
   "cell_type": "markdown",
   "metadata": {},
   "source": [
    "**Exercise:** Implement `calculate_checksum()` to calculate the checksum of the input."
   ]
  },
  {
   "cell_type": "code",
   "execution_count": 147,
   "metadata": {},
   "outputs": [],
   "source": [
    "def calculate_checksum(input_value):\n",
    "    \n",
    "    # make sure the length of the input_value is a multiple of 16 using assert\n",
    "    assert len(input_value) % 16 == 0\n",
    "    \n",
    "    # assoing zero to temp\n",
    "    temp = 0\n",
    "\n",
    "    # 1. get every 16-bit data,\n",
    "    # 2. convert it to integer \n",
    "    # 3. and add it to temp\n",
    "    for x in range(0,len(input_value),16):\n",
    "        d = input_value[x:x+16]\n",
    "        temp += d.uint\n",
    "    \n",
    "    # compute the carry around add\n",
    "    # 1. peform bitwise and 0xffff with temp\n",
    "    # 2. shift temp by 16 bits and add it to temp\n",
    "    temp = (temp & 0xffff) + (temp >>16)\n",
    "\n",
    "    # compute the one's complement\n",
    "    # 1. convert temp to a BitArray\n",
    "    # 2. calculate the one_complement\n",
    "    checksum = calculate_one_complement(BitArray(hex(temp)))\n",
    "    \n",
    "    return checksum"
   ]
  },
  {
   "cell_type": "code",
   "execution_count": 148,
   "metadata": {},
   "outputs": [
    {
     "name": "stdout",
     "output_type": "stream",
     "text": [
      "Sanity Check (calculate_checksum):  True\n"
     ]
    }
   ],
   "source": [
    "if __name__ == '__main__':\n",
    "    print('Sanity Check (calculate_checksum): ', test_calculate_checksum(calculate_checksum))"
   ]
  },
  {
   "cell_type": "markdown",
   "metadata": {},
   "source": [
    "**Exercise:** Implement `make_udp_generic_header()` to build a udp header. Notice that the checksum field used for error-checking of the header and data. "
   ]
  },
  {
   "cell_type": "code",
   "execution_count": 149,
   "metadata": {},
   "outputs": [],
   "source": [
    "def make_udp_header(segment, source_port, dest_port, with_checksum=True):\n",
    "    # make an empty BitArray for udp_header\n",
    "    udp_header = BitArray()\n",
    "    \n",
    "    # add source_port to udp_header\n",
    "    # 1. use struct.pack to pack source_port into 16 bits \n",
    "    # 2 convert the packed source_port into BitArray and add it to udp_header\n",
    "    udp_header += BitArray(struct.pack('H', source_port))\n",
    "    \n",
    "    # add dest_port to udp_header\n",
    "    # 1. use struct.pack to pack dest_port into 16 bits \n",
    "    # 2 convert the packed dest_port into BitArray and add it to udp_header\n",
    "    udp_header += BitArray(struct.pack('H', dest_port))\n",
    "    \n",
    "    # add dest_port to udp_header\n",
    "    # 1. compute the length field as the the length of the current udp_header length plus the length of segment \n",
    "    # 2. use struct.pack to pack length into 16 bits \n",
    "    # 3. convert the packed length into BitArray and add it to udp_header\n",
    "    \n",
    "    length = len(udp_header) + len(segment)\n",
    "    udp_header += BitArray(struct.pack('H', length))\n",
    "    \n",
    "    if not with_checksum:\n",
    "        # if there is no checksum, pad 16-bit zeor BitArray to the udp_header\n",
    "        udp_header += BitArray(struct.pack('H', 0))\n",
    "    else:\n",
    "        # make input_value as the header and a segment\n",
    "        input_value = udp_header + segment\n",
    "        \n",
    "        # calculate the checksum for input_value\n",
    "        checksum = calculate_checksum(input_value)\n",
    "        \n",
    "        # add checksum to the udp_header\n",
    "        udp_header += checksum\n",
    "        \n",
    "    return udp_header\n",
    "    "
   ]
  },
  {
   "cell_type": "code",
   "execution_count": 150,
   "metadata": {},
   "outputs": [
    {
     "name": "stdout",
     "output_type": "stream",
     "text": [
      "Sanity Check (make_udp_header):  True\n"
     ]
    }
   ],
   "source": [
    "if __name__ == '__main__':\n",
    "    print('Sanity Check (make_udp_header): ', test_make_udp_header(make_udp_header))"
   ]
  },
  {
   "cell_type": "markdown",
   "metadata": {},
   "source": [
    "### Grade\n",
    "Run the following cell to calculate your grade.\n"
   ]
  },
  {
   "cell_type": "code",
   "execution_count": 151,
   "metadata": {},
   "outputs": [
    {
     "name": "stdout",
     "output_type": "stream",
     "text": [
      "+-------+--------------------------+--------+-------+\n",
      "| Index | Exercise                 | Passed | Grade |\n",
      "+-------+--------------------------+--------+-------+\n",
      "| 0     | calculate_checksum       | True   | 10    |\n",
      "| 1     | calculate_one_complement | True   | 10    |\n",
      "| 2     | make_udp_header          | True   | 10    |\n",
      "+-------+--------------------------+--------+-------+\n",
      "Grade: 100.00\n"
     ]
    }
   ],
   "source": [
    "if __name__ == '__main__':\n",
    "    exercise_functions = get_module_functions(sys.modules[__name__])\n",
    "    evaluate(exercise_functions)"
   ]
  },
  {
   "cell_type": "code",
   "execution_count": null,
   "metadata": {},
   "outputs": [],
   "source": []
  }
 ],
 "metadata": {
  "kernelspec": {
   "display_name": "Python 3",
   "language": "python",
   "name": "python3"
  },
  "language_info": {
   "codemirror_mode": {
    "name": "ipython",
    "version": 3
   },
   "file_extension": ".py",
   "mimetype": "text/x-python",
   "name": "python",
   "nbconvert_exporter": "python",
   "pygments_lexer": "ipython3",
   "version": "3.6.5"
  }
 },
 "nbformat": 4,
 "nbformat_minor": 2
}
