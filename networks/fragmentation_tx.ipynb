{
 "cells": [
  {
   "cell_type": "code",
   "execution_count": 1,
   "metadata": {},
   "outputs": [],
   "source": [
    "import sys\n",
    "import json\n",
    "import struct\n",
    "from random import randint\n",
    "from math import ceil\n",
    "from pprint import pprint\n",
    "import socket\n",
    "import argparse\n",
    "\n",
    "packet_storage = {}\n",
    "\n",
    "JSON_PACKET = {'length': '00000000',\n",
    "               'ID': '00000000',\n",
    "               'FragFlag': '00000000',\n",
    "               'Offset': '00000000'\n",
    "               }\n",
    "\n",
    "id_seed = randint(100, 999)\n",
    "origin_packets = []\n",
    "payload_key_size = 19  # hardcoding extra size of JSON_PACKET for 'payload' key"
   ]
  },
  {
   "cell_type": "code",
   "execution_count": 2,
   "metadata": {},
   "outputs": [],
   "source": [
    "def pack_int_to_hex(data):\n",
    "    def bytes_to_hex(byte_str):\n",
    "        #return ''.join([\"%02X\" % ord(x) for x in byte_str]).strip()\n",
    "        return byte_str.hex()\n",
    "    return bytes_to_hex(struct.pack(\">I\", data))\n",
    "\n",
    "\n",
    "def unpack_hex_to_int(data):\n",
    "    return int(data, 16)\n",
    "\n",
    "\n",
    "def size_of_json_packet(json_data):\n",
    "    return sys.getsizeof(json.dumps(json_data)) + 20  # 20 = size of header\n",
    "\n",
    "\n",
    "header_size = size_of_json_packet(json.dumps(JSON_PACKET))"
   ]
  },
  {
   "cell_type": "code",
   "execution_count": 3,
   "metadata": {},
   "outputs": [],
   "source": [
    "def create_packet(payload, packet_id=0, offset=0, frag_flag=0):\n",
    "    new_packet = dict(JSON_PACKET)\n",
    "    new_packet['payload'] = payload\n",
    "\n",
    "    new_packet['length'] = pack_int_to_hex(header_size + payload_key_size + len(payload))\n",
    "    new_packet['Offset'] = pack_int_to_hex(offset)\n",
    "    new_packet['FragFlag'] = pack_int_to_hex(frag_flag)\n",
    "    new_packet['ID'] = pack_int_to_hex(packet_id)\n",
    "    return new_packet"
   ]
  },
  {
   "cell_type": "code",
   "execution_count": 4,
   "metadata": {},
   "outputs": [],
   "source": [
    "def get_x_bytes(byte_size, data, offset=0):\n",
    "    ex_data, i = [], 0\n",
    "    for x in data[offset:]:\n",
    "        ex_data.append(x)\n",
    "\n",
    "        new_packet = create_packet(''.join(ex_data))\n",
    "        if size_of_json_packet(json.dumps(new_packet)) == byte_size:\n",
    "            break\n",
    "    return ''.join(ex_data), offset + i + 1"
   ]
  },
  {
   "cell_type": "code",
   "execution_count": 5,
   "metadata": {},
   "outputs": [],
   "source": [
    "def create_original_packets(input_filename, packet_size):\n",
    "    with open(input_filename) as myfile:\n",
    "        sample_data = myfile.read()\n",
    "    sample_data = json.dumps(sample_data)\n",
    "    sample_data_length = len(sample_data)\n",
    "    size_of_data_section = packet_size - (header_size + payload_key_size)\n",
    "    number_of_packets = int(ceil(sample_data_length / float(size_of_data_section)))\n",
    "\n",
    "    start_addr = 0\n",
    "    for x in range(number_of_packets):\n",
    "        payload, start_addr = get_x_bytes(packet_size, sample_data, start_addr)\n",
    "\n",
    "        new_packet = create_packet(payload, packet_id=id_seed + x)\n",
    "        start_addr += size_of_data_section\n",
    "\n",
    "        origin_packets.append(new_packet)\n",
    "\n",
    "    # print_packet(origin_packets)\n",
    "    print(\"{} packets created with max {} bytes packet size to be sent \".format(len(origin_packets), packet_size))\n",
    "    print(\"Header Size of each packet: {} bytes  \".format(header_size))\n",
    "    for i, x in enumerate(origin_packets):\n",
    "        print(\"Size of packet-{} is {} bytes\".format(i + 1, size_of_json_packet(json.dumps(x))))\n",
    "    return origin_packets"
   ]
  },
  {
   "cell_type": "code",
   "execution_count": 6,
   "metadata": {},
   "outputs": [],
   "source": [
    "def create_packet_fragments(MTU, packet):\n",
    "    size_of_data_section = MTU - header_size - payload_key_size\n",
    "    input_data = packet['payload']\n",
    "    data_length = len(packet['payload'])\n",
    "    number_of_packet_fragments = int(ceil(data_length / float(size_of_data_section)))\n",
    "    packet_fragments = []\n",
    "    packet_id = unpack_hex_to_int(packet['ID'])\n",
    "\n",
    "    start_addr = 0\n",
    "    offset = 0\n",
    "    for x in range(number_of_packet_fragments):\n",
    "\n",
    "        if x != number_of_packet_fragments - 1:\n",
    "            frag_flag = 1\n",
    "        else:\n",
    "            frag_flag = 0\n",
    "\n",
    "        payload, start_addr = get_x_bytes(MTU, input_data, start_addr)\n",
    "        new_packet = create_packet(payload, packet_id, offset, frag_flag)\n",
    "        offset += size_of_data_section // 8\n",
    "        start_addr += size_of_data_section\n",
    "\n",
    "        packet_fragments.append(new_packet)\n",
    "    # print_packet(packet_fragments)\n",
    "    print(\"{} packet fragments created with max {} bytes packet size to be sent \".format(len(packet_fragments), MTU))\n",
    "    for i, x in enumerate(packet_fragments):\n",
    "        print(\"Size of fragment packet-{} is {} bytes\".format(i + 1, size_of_json_packet(json.dumps(x))))\n",
    "    return packet_fragments"
   ]
  },
  {
   "cell_type": "code",
   "execution_count": 7,
   "metadata": {},
   "outputs": [],
   "source": [
    "def udp_sender(dest_ip, dest_port, data):\n",
    "    # define socket\n",
    "    sock = socket.socket(socket.AF_INET, socket.SOCK_DGRAM)  # UDP\n",
    "    print(\"\\nSending all packets to {}:{}\".format(dest_ip, dest_port))\n",
    "    for x in range(0, len(data), 1024):\n",
    "        sock.sendto(str.encode(data[x:x + 1024]), (dest_ip, dest_port))"
   ]
  },
  {
   "cell_type": "code",
   "execution_count": 8,
   "metadata": {},
   "outputs": [
    {
     "name": "stdout",
     "output_type": "stream",
     "text": [
      "1 packets created with max 5000 bytes packet size to be sent \n",
      "Header Size of each packet: 173 bytes  \n",
      "Size of packet-1 is 717 bytes\n",
      "\n",
      "For original packet 1\n",
      "1 packet fragments created with max 3000 bytes packet size to be sent \n",
      "Size of fragment packet-1 is 717 bytes\n",
      "\n",
      "Sending all packets to 127.0.0.1:2001\n"
     ]
    }
   ],
   "source": [
    "if __name__ == '__main__':\n",
    "    parser = argparse.ArgumentParser(description='Creates packet fragments and send via UDP')\n",
    "    parser.add_argument('-f', '--input_filename', help='Input filename', default='/home/cs/Documents/sample.txt')\n",
    "    parser.add_argument('-ps', '--packet_size', help='Packet Size', type=int, default=5000)\n",
    "    parser.add_argument('-mtu', '--MTU', help='MTU', type=int, default=3000)\n",
    "    parser.add_argument('-ip', '--destIP', help='destination IP address', default='127.0.0.1')\n",
    "    parser.add_argument('-port', '--destPort', help='destination port number', type=int, default=2001)\n",
    "\n",
    "    args = parser.parse_args()\n",
    "\n",
    "    orig_packets = create_original_packets(args.input_filename, args.packet_size)\n",
    "\n",
    "    all_fragments = []\n",
    "    for i, x in enumerate(orig_packets):\n",
    "        print(\"\\nFor original packet {}\".format(i + 1))\n",
    "\n",
    "        packet_fragments_list = create_packet_fragments(args.MTU, x)\n",
    "        all_fragments += packet_fragments_list\n",
    "\n",
    "    # printing all fragments to file for verification purpose\n",
    "    with open(\"fragmented_packets.txt\", 'w+') as myfile:\n",
    "        pprint(all_fragments, myfile)\n",
    "\n",
    "    udp_sender(args.destIP, args.destPort, str(json.dumps(all_fragments)))"
   ]
  },
  {
   "cell_type": "code",
   "execution_count": null,
   "metadata": {},
   "outputs": [],
   "source": []
  },
  {
   "cell_type": "code",
   "execution_count": null,
   "metadata": {},
   "outputs": [],
   "source": []
  }
 ],
 "metadata": {
  "kernelspec": {
   "display_name": "Python 3",
   "language": "python",
   "name": "python3"
  },
  "language_info": {
   "codemirror_mode": {
    "name": "ipython",
    "version": 3
   },
   "file_extension": ".py",
   "mimetype": "text/x-python",
   "name": "python",
   "nbconvert_exporter": "python",
   "pygments_lexer": "ipython3",
   "version": "3.6.5"
  }
 },
 "nbformat": 4,
 "nbformat_minor": 2
}
