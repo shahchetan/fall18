{
 "cells": [
  {
   "cell_type": "code",
   "execution_count": 1,
   "metadata": {},
   "outputs": [],
   "source": [
    "import sys\n",
    "import networkx as nx\n",
    "from terminaltables import AsciiTable\n",
    "%matplotlib inline"
   ]
  },
  {
   "cell_type": "markdown",
   "metadata": {},
   "source": [
    "# Dijkstra's algorithm\n",
    "\n",
    "Dijkstra's algorithm is an algorithm for finding the shortest paths between nodes in a graph, which may represent computer networks. For a given source node in the graph, the algorithm finds the shortest path between that node and every other. The shortest path algorithm is widely used in network routing protocols, most notably IS-IS (Intermediate System to Intermediate System) and Open Shortest Path First (OSPF). \n",
    "\n",
    "## Notations\n",
    "\n",
    "- $c(x,y)$: link cost from node $x$ to node $y$\n",
    "- $D(d)$: current value of cost of path from source to destination $d$\n",
    "- $p(v)$: predecessor node along path from source to $v$\n",
    "- $N'$: set of nodes whose least cost path definitively known \n",
    "\n",
    "### Initialization\n",
    "\n",
    "Set the source node to $N'$, then set the path cost from source to neighboring nodes (nodes with physical connection) to the link cost. For those nodes that are not neighbors, set the path cost to a large number. \n",
    "\n",
    "1. N’ = {u}\n",
    "2.    for all nodes v\n",
    "3.      if v is a neighbor of u\n",
    "4.         then D(v) = c(u,v)\n",
    "5.      else D(v) = inf \n",
    "\n",
    "### Loop\n",
    "\n",
    "Then update the current path cost based on the following rule: \n",
    "**new cost to destination $v$ is either old cost to $v$ or known least path cost to a relay node $w$ plus the link cost from $w$ to the destination $v$.**\n",
    "\n",
    "6.    find w not in N’ such that D(w) is a minimum\n",
    "7.   add w to N’\n",
    "8.   update D(v) for each neighbor v of w and not in N’:\n",
    "9.         D(v) = min( D(v), D(w) + c(w,v) )\n",
    "\n",
    "\n",
    "**Exercise:** Implement `link_state()` that initializes Dijkstra algorithm. "
   ]
  },
  {
   "cell_type": "code",
   "execution_count": 2,
   "metadata": {},
   "outputs": [],
   "source": [
    "def link_state(source_node, network_topology, show_table=False):\n",
    "    \n",
    "    # get network topology nodes\n",
    "    nodes = network_topology['nodes']\n",
    "    \n",
    "    # get network topology links\n",
    "    links = network_topology['links'].keys()\n",
    "    \n",
    "    # get the link costs in network topology\n",
    "    link_cost = network_topology['links']\n",
    "    \n",
    "    \n",
    "    \n",
    "    # define the Dijkstra table\n",
    "    Dijkstra_table = [\n",
    "    ['Step', 'N'],\n",
    "    ]\n",
    "    for node in nodes:\n",
    "        Dijkstra_table[0].append('D(' + str(node) + ')')\n",
    "        Dijkstra_table[0].append('p(' + str(node) + ')')\n",
    "    \n",
    "    \n",
    "    \n",
    "    # define N’ as a set() and add source node to it (two lines)\n",
    "    N = set()\n",
    "    N.add(source_node)\n",
    "    \n",
    "    # define path cost D as dictionary\n",
    "    D = {}\n",
    "    \n",
    "    # define predecessor as dictionary\n",
    "    p = {}\n",
    "    \n",
    "    # Initialization\n",
    "    \n",
    "    # initalize steps to zero\n",
    "    step = 0\n",
    "    \n",
    "    # Dijkstra_table_row\n",
    "    Dijkstra_table_row = [str(step), str(N)]\n",
    "    \n",
    "    # for all nodes in network topology \n",
    "    for node in nodes:\n",
    "        if node is source_node:\n",
    "            Dijkstra_table_row.append('')\n",
    "            Dijkstra_table_row.append('')\n",
    "            continue\n",
    "        \n",
    "        # if v is a neighbor of u\n",
    "        if (source_node, node) in links or (node, source_node) in links:\n",
    "            D[node] = link_cost[(source_node, node)] if (source_node, node) in link_cost else link_cost[(node, source_node)]\n",
    "            p[node] = source_node\n",
    "        \n",
    "        else:\n",
    "            D[node] = sys.maxsize\n",
    "            p[node] = 'N/A'\n",
    "        \n",
    "        D_label = 'inf' if D[node] == sys.maxsize else str(D[node])\n",
    "        Dijkstra_table_row.append(D_label)\n",
    "        Dijkstra_table_row.append(str(p[node]))\n",
    "    \n",
    "    Dijkstra_table.append(Dijkstra_table_row)\n",
    "    \n",
    "    \n",
    "    # loop\n",
    "    \n",
    "    # check whether all nodes in N\n",
    "    condition = (nodes == N)\n",
    "    \n",
    "    \n",
    "    # print(N,nodes)\n",
    "    while not condition:\n",
    "        \n",
    "        # increment step\n",
    "        step += 1\n",
    "        \n",
    "        # find a relay node not in N’ such that D(w) is a minimum\n",
    "        relay_candidates = nodes - N\n",
    "        relay_D = {}\n",
    "        for r in relay_candidates:\n",
    "            relay_D[r] = D[r]\n",
    "\n",
    "        # find relay node with minimum D() value\n",
    "        relay_node = sorted(relay_D, key=relay_D.get, reverse=False)[0]\n",
    "        # print(relay_D,relay_node)\n",
    "        # add relay_node to N\n",
    "        N.add(relay_node)\n",
    "        \n",
    "        # update Dijkstra_table_row\n",
    "        Dijkstra_table_row = [str(step), str(N)]\n",
    "        \n",
    "        for dest_node in nodes:\n",
    "             \n",
    "            # dest_node if already in N, skip it\n",
    "            if dest_node in N:\n",
    "                Dijkstra_table_row.append('')\n",
    "                Dijkstra_table_row.append('')\n",
    "                continue\n",
    "            \n",
    "\n",
    "            \n",
    "            # make sure the link exist in the network topology\n",
    "            relay_link = None # <== dont modify this \"None\" is the default value! \n",
    "            if (relay_node, dest_node) in link_cost:\n",
    "                relay_link = (relay_node, dest_node)\n",
    "            elif (dest_node , relay_node) in link_cost:\n",
    "                relay_link = (dest_node , relay_node)\n",
    "\n",
    "            if relay_link:\n",
    "                if D[dest_node] > (D[relay_node] + link_cost[relay_link]) : # if( D(v) > D(w) + c(w,v) )\n",
    "                    #update D(v)\n",
    "                    D[dest_node] = D[relay_node] + link_cost[relay_link]\n",
    "                    # update p for this destination node\n",
    "                    p[dest_node] = relay_node\n",
    "                \n",
    "            D_label = 'inf' if D[dest_node] == sys.maxsize else str(D[dest_node])\n",
    "            Dijkstra_table_row.append(D_label)\n",
    "            Dijkstra_table_row.append(str(p[dest_node]))\n",
    "    \n",
    "        Dijkstra_table.append(Dijkstra_table_row)    \n",
    "            \n",
    "        \n",
    "        \n",
    "        # update the while condition\n",
    "        condition = (nodes == N)\n",
    "    \n",
    "    \n",
    "    # print(Dijkstra_table)\n",
    "    table = AsciiTable(Dijkstra_table)\n",
    "    if show_table:\n",
    "        print(table.table)\n",
    "    \n",
    "    return p\n",
    "    "
   ]
  },
  {
   "cell_type": "markdown",
   "metadata": {},
   "source": [
    "## Network abstraction with Graphs \n",
    "We use graphs $G=(N,E)$ to represent network abstraction where\n",
    "\n",
    "- $N$: represents nodes (routers) in the network\n",
    "- $E$: represents links in the network\n",
    "\n",
    "### Networkx\n",
    "\n",
    "NetworkX is a Python package for the creation, manipulation, and study of the structure, dynamics, and functions of complex networks. We use this package to draw the graph abstraction of the network topology. Using networkx, we can define costs for each link as *weight* of that link.\n",
    "\n",
    "**Exercise:** Implement `draw_network()`. Use networkx to draw a given network topology that includes nodes, links and their costs. Assume that `network_topology` is a Python dictionary with the following keys and values:\n",
    "\n",
    "- `network_topology[\"nodes\"]`: is a set of numbers representing the node ids (router ids, e.g., 1,2,3) in the network.\n",
    "- `network_topology[\"links\"]`: is a dictionary with keys as link tuples (e.g., (1,2)) and values that represent the corresponding link cost.\n"
   ]
  },
  {
   "cell_type": "code",
   "execution_count": 3,
   "metadata": {},
   "outputs": [],
   "source": [
    "def draw_network(network_topology):\n",
    "    # get network topology nodes\n",
    "    nodes = network_topology['nodes']\n",
    "    \n",
    "    # get network topology links\n",
    "    links = network_topology['links'].keys()\n",
    "    \n",
    "    # get the link costs in network topology\n",
    "    link_cost = network_topology['links']\n",
    "    \n",
    "    # define an empty graph in networkx\n",
    "    G = nx.Graph()\n",
    "    \n",
    "    # add nodes to graph G\n",
    "    for node in nodes:\n",
    "        G.add_node(node)\n",
    "    \n",
    "    # add edges to graph G using links\n",
    "    for link in links:\n",
    "        G.add_edge(*link)\n",
    "    \n",
    "    # specify the layout of the graph\n",
    "    # we use random layout\n",
    "    pos = nx.random_layout(G)\n",
    "    \n",
    "    # draw the network nodes and edges\n",
    "    nx.draw_networkx(G, pos)\n",
    "    \n",
    "    # draw the link costs as labels for each edge\n",
    "    # make costs as labels for each link\n",
    "    link_labels = {}\n",
    "    for link, cost in link_cost.items():\n",
    "        link_labels[link]= str(cost)\n",
    "    \n",
    "    # draw the link costs\n",
    "    nx.draw_networkx_edge_labels(G,pos,edge_labels=link_labels)\n",
    "        \n",
    "    \n",
    "    \n",
    "    "
   ]
  },
  {
   "cell_type": "code",
   "execution_count": 4,
   "metadata": {},
   "outputs": [
    {
     "data": {
      "image/png": "[encoded data removed]",
      "text/plain": [
       "<Figure size 432x288 with 1 Axes>"
      ]
     },
     "metadata": {},
     "output_type": "display_data"
    }
   ],
   "source": [
    "network_topology = {}\n",
    "network_topology['nodes'] = set(['x','y','z'])\n",
    "network_topology['links'] = {('x','y'): 10, ('y','z'): 20,  ('x','z'): 40}\n",
    "draw_network(network_topology)"
   ]
  },
  {
   "cell_type": "markdown",
   "metadata": {},
   "source": [
    "**Expected output:**\n",
    "<img src='images/three_node_top.png' >"
   ]
  },
  {
   "cell_type": "code",
   "execution_count": 5,
   "metadata": {},
   "outputs": [
    {
     "name": "stdout",
     "output_type": "stream",
     "text": [
      "+------+-----------------+------+------+------+------+------+------+\n",
      "| Step | N               | D(z) | p(z) | D(x) | p(x) | D(y) | p(y) |\n",
      "+------+-----------------+------+------+------+------+------+------+\n",
      "| 0    | {'y'}           | 20   | y    | 10   | y    |      |      |\n",
      "| 1    | {'x', 'y'}      | 20   | y    |      |      |      |      |\n",
      "| 2    | {'z', 'x', 'y'} |      |      |      |      |      |      |\n",
      "+------+-----------------+------+------+------+------+------+------+\n"
     ]
    },
    {
     "data": {
      "text/plain": [
       "{'z': 'y', 'x': 'y'}"
      ]
     },
     "execution_count": 5,
     "metadata": {},
     "output_type": "execute_result"
    }
   ],
   "source": [
    "source_node = 'y'\n",
    "link_state(source_node, network_topology,True)"
   ]
  },
  {
   "cell_type": "markdown",
   "metadata": {},
   "source": [
    "**Expected output:**\n",
    "```\n",
    "\n",
    "+------+-----------------+------+------+------+------+------+------+\n",
    "| Step | N               | D(z) | p(z) | D(y) | p(y) | D(x) | p(x) |\n",
    "+------+-----------------+------+------+------+------+------+------+\n",
    "| 0    | {'y'}           | 20   | y    | 10   | y    |      |      |\n",
    "| 1    | {'y', 'x'}      | 20   | y    |      |      |      |      |\n",
    "| 2    | {'z', 'y', 'x'} |      |      |      |      |      |      |\n",
    "+------+-----------------+------+------+------+------+------+------+\n",
    "\n",
    "{'z': 'y', 'x': 'y'}\n",
    "```"
   ]
  },
  {
   "cell_type": "markdown",
   "metadata": {},
   "source": [
    "## Shortest Path Tree\n",
    "The link_state algorithm determines the shortest paths from the source to other nodes in the network. The output of this algorithm also includes predecessor node's path for each destination. Using this information, we can draw the shortest path tree. This will help us to populate the forwarding table for the source.\n",
    "\n",
    "**Exercise:** Implement `get_SPT()` to generate the shortest path tree for a given network topology."
   ]
  },
  {
   "cell_type": "code",
   "execution_count": 6,
   "metadata": {},
   "outputs": [],
   "source": [
    "def get_SPT(source_node, network_topology, draw_tree=False):\n",
    "    \n",
    "       \n",
    "    # create empty dict for SPT\n",
    "    SPT_tree = {'nodes': set(),\n",
    "                'links': {}}\n",
    " \n",
    "    # run link_state algorithm to get the predecessor list\n",
    "    predecessors = link_state(source_node, network_topology)\n",
    "    \n",
    "    \n",
    "    # go through the predecessors list and make the tree topology\n",
    "    for dest_node, pred_node in predecessors.items():\n",
    "        # add the pred_node to SPT nodes\n",
    "        SPT_tree['nodes'].add(pred_node)\n",
    "        \n",
    "        # add the dest_node to SPT nodes\n",
    "        SPT_tree['nodes'].add(dest_node)\n",
    "        \n",
    "        # add the (pred_node, dest_node) and its cost to SPT links\n",
    "        tmp_link = (pred_node, dest_node) if (pred_node, dest_node) in network_topology['links'] else (dest_node,pred_node)\n",
    "        SPT_tree['links'][tmp_link] = network_topology['links'][tmp_link]\n",
    "    \n",
    "    \n",
    "    if draw_tree:\n",
    "        draw_network(SPT_tree)\n",
    "    \n",
    "    return SPT_tree\n",
    "        \n",
    "    \n",
    "    \n",
    "    \n",
    "    "
   ]
  },
  {
   "cell_type": "code",
   "execution_count": 7,
   "metadata": {},
   "outputs": [
    {
     "data": {
      "text/plain": [
       "{'nodes': {'x', 'y', 'z'}, 'links': {('y', 'z'): 20, ('x', 'y'): 10}}"
      ]
     },
     "execution_count": 7,
     "metadata": {},
     "output_type": "execute_result"
    },
    {
     "data": {
      "image/png": "[encoded data removed]",
      "text/plain": [
       "<Figure size 432x288 with 1 Axes>"
      ]
     },
     "metadata": {},
     "output_type": "display_data"
    }
   ],
   "source": [
    "get_SPT(source_node, network_topology, draw_tree=True)"
   ]
  },
  {
   "cell_type": "markdown",
   "metadata": {},
   "source": [
    "**Expected output:**\n",
    "```\n",
    "{'nodes': {'x', 'y', 'z'}, 'links': {('x', 'z'): 40, ('x', 'y'): 10}}\n",
    "```\n",
    "<img src='images/three_node_SPT.png' >"
   ]
  },
  {
   "cell_type": "markdown",
   "metadata": {},
   "source": [
    "**Execrise:** Define the network topology of the text book at page 429 for P3. Run the `link_state()` and `get_SPT()` for each nodes listed in problem P4. Compare the generated table and shortest path three with your solutions you did on the paper."
   ]
  },
  {
   "cell_type": "code",
   "execution_count": 8,
   "metadata": {},
   "outputs": [
    {
     "name": "stdout",
     "output_type": "stream",
     "text": [
      "+------+-------------------------------------+------+------+------+------+------+------+------+------+------+------+------+------+------+------+\n",
      "| Step | N                                   | D(t) | p(t) | D(w) | p(w) | D(z) | p(z) | D(u) | p(u) | D(v) | p(v) | D(x) | p(x) | D(y) | p(y) |\n",
      "+------+-------------------------------------+------+------+------+------+------+------+------+------+------+------+------+------+------+------+\n",
      "| 0    | {'z'}                               | inf  | N/A  | inf  | N/A  |      |      | inf  | N/A  | inf  | N/A  | 8    | z    | 12   | z    |\n",
      "| 1    | {'z', 'x'}                          | inf  | N/A  | 14   | x    |      |      | inf  | N/A  | 11   | x    |      |      | 12   | z    |\n",
      "| 2    | {'z', 'x', 'v'}                     | 15   | v    | 14   | x    |      |      | 14   | v    |      |      |      |      | 12   | z    |\n",
      "| 3    | {'z', 'x', 'y', 'v'}                | 15   | v    | 14   | x    |      |      | 14   | v    |      |      |      |      |      |      |\n",
      "| 4    | {'z', 'u', 'v', 'x', 'y'}           | 15   | v    | 14   | x    |      |      |      |      |      |      |      |      |      |      |\n",
      "| 5    | {'w', 'z', 'u', 'v', 'x', 'y'}      | 15   | v    |      |      |      |      |      |      |      |      |      |      |      |      |\n",
      "| 6    | {'t', 'w', 'z', 'u', 'v', 'x', 'y'} |      |      |      |      |      |      |      |      |      |      |      |      |      |      |\n",
      "+------+-------------------------------------+------+------+------+------+------+------+------+------+------+------+------+------+------+------+\n"
     ]
    },
    {
     "data": {
      "text/plain": [
       "{'nodes': {'t', 'u', 'v', 'w', 'x', 'y', 'z'},\n",
       " 'links': {('v', 't'): 4,\n",
       "  ('x', 'w'): 6,\n",
       "  ('v', 'u'): 3,\n",
       "  ('x', 'v'): 3,\n",
       "  ('z', 'x'): 8,\n",
       "  ('z', 'y'): 12}}"
      ]
     },
     "execution_count": 8,
     "metadata": {},
     "output_type": "execute_result"
    },
    {
     "data": {
      "image/png": "[encoded data removed]",
      "text/plain": [
       "<Figure size 432x288 with 1 Axes>"
      ]
     },
     "metadata": {},
     "output_type": "display_data"
    }
   ],
   "source": [
    "# network topology book page 429 P3\n",
    "\n",
    "network_top = {'nodes': set(['z','x','y','w','v','u','t']),\n",
    "              'links': {('z','x'): 8,\n",
    "                        ('z','y'): 12,\n",
    "                        ('x','y'): 6,\n",
    "                        ('x','w'): 6,\n",
    "                        ('x','v'): 3,\n",
    "                        ('y','t'): 7,\n",
    "                        ('y','v'): 8,\n",
    "                        ('v','t'): 4,\n",
    "                        ('v','w'): 4,\n",
    "                        ('v','u'): 3,\n",
    "                        ('t','u'): 2,\n",
    "                        ('w','u'): 3\n",
    "                       }\n",
    "              }\n",
    "\n",
    "## source node = 'z'\n",
    "link_state(source_node='z', network_topology=network_top, show_table= True)\n",
    "get_SPT(source_node='z', network_topology=network_top, draw_tree=True)"
   ]
  },
  {
   "cell_type": "code",
   "execution_count": null,
   "metadata": {},
   "outputs": [],
   "source": []
  }
 ],
 "metadata": {
  "kernelspec": {
   "display_name": "Python 3",
   "language": "python",
   "name": "python3"
  },
  "language_info": {
   "codemirror_mode": {
    "name": "ipython",
    "version": 3
   },
   "file_extension": ".py",
   "mimetype": "text/x-python",
   "name": "python",
   "nbconvert_exporter": "python",
   "pygments_lexer": "ipython3",
   "version": "3.6.5"
  }
 },
 "nbformat": 4,
 "nbformat_minor": 2
}
