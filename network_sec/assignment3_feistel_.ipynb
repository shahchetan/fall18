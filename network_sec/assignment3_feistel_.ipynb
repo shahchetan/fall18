{
 "cells": [
  {
   "cell_type": "markdown",
   "metadata": {},
   "source": [
    "### Feistel Cipher"
   ]
  },
  {
   "cell_type": "code",
   "execution_count": 41,
   "metadata": {},
   "outputs": [],
   "source": [
    "# Round function for the cipher\n",
    "def round_function(x,k):\n",
    "    # we need to convert binary to int\n",
    "    x_int = int(x,2)\n",
    "    k_int = int(k,2)\n",
    "    # perform the multiplication\n",
    "    ret_int = x_int * k_int\n",
    "    # convert it back to binary\n",
    "    ret = bin(ret_int)\n",
    "    # return the result\n",
    "    return ret"
   ]
  },
  {
   "cell_type": "markdown",
   "metadata": {},
   "source": [
    "### Encryption Function"
   ]
  },
  {
   "cell_type": "code",
   "execution_count": 42,
   "metadata": {},
   "outputs": [],
   "source": [
    "# feistel encryption function for layer i\n",
    "def feistel_encrypt(RE_prev, LE_prev, k_i):\n",
    "    '''\n",
    "    Implements feistel encryption\n",
    "    \n",
    "    arguments:\n",
    "    RE_prev -- round (i-1) right side of the output\n",
    "    LE_prev -- round (i-1) lest side of the output\n",
    "    k_i -- key used for round i\n",
    "    \n",
    "    return:\n",
    "    RE_i -- round i right side of encryption\n",
    "    LE_i -- round i lest side of encryption\n",
    "    '''\n",
    "    # calculate the left side LE_i\n",
    "    LE_i = RE_prev\n",
    "    \n",
    "    # calculate the right side RE_i\n",
    "    # convert to int\n",
    "    rf_int = int(round_function(RE_prev,k_i),2)\n",
    "    LE_prev_int = int(LE_prev,2)\n",
    "    # perform the xor\n",
    "    RE_i_int = rf_int^LE_prev_int\n",
    "    \n",
    "    # convert back to binary\n",
    "    RE_i = bin(RE_i_int)\n",
    "    \n",
    "    # return the output\n",
    "    return RE_i, LE_i\n",
    "    "
   ]
  },
  {
   "cell_type": "markdown",
   "metadata": {},
   "source": [
    "### Decryption Function"
   ]
  },
  {
   "cell_type": "code",
   "execution_count": 43,
   "metadata": {},
   "outputs": [],
   "source": [
    "# feistel encryption function for layer i\n",
    "def feistel_decrypt(RE_prev, LE_prev, k_i):\n",
    "    # for decryption we can use the same encryption function BUT the right and left values need to be swapped!\n",
    "    l, r = feistel_encrypt(LE_prev, RE_prev, k_i)\n",
    "    return l, r"
   ]
  },
  {
   "cell_type": "markdown",
   "metadata": {},
   "source": [
    "#### Driver Code"
   ]
  },
  {
   "cell_type": "code",
   "execution_count": 44,
   "metadata": {},
   "outputs": [
    {
     "name": "stdout",
     "output_type": "stream",
     "text": [
      "the right half of sample data is:0xde7f\n",
      "the left half of sample data is:0x3a6\n",
      "\n"
     ]
    }
   ],
   "source": [
    "# set RE_prev to binary representation of DE7F\n",
    "RE_prev = bin(0xDE7F)\n",
    "# set LE_prev to bunary representation of 03A6\n",
    "LE_prev = bin(0x03A6)\n",
    "# set k_i to binary representation of 12DE52\n",
    "k_i = bin(0x12DE52)\n",
    "\n",
    "print(\"the right half of sample data is:{}\".format(hex(int(RE_prev[2:], 2))))\n",
    "print(\"the left half of sample data is:{}\\n\".format(hex(int(LE_prev[2:], 2))))"
   ]
  },
  {
   "cell_type": "code",
   "execution_count": 45,
   "metadata": {},
   "outputs": [
    {
     "name": "stdout",
     "output_type": "stream",
     "text": [
      "the encrypted data is:\n",
      "right: 0x1066276508\n",
      "left: 0xde7f\n"
     ]
    }
   ],
   "source": [
    "# run the feistel encrypt\n",
    "print(\"the encrypted data is:\")\n",
    "r,l = feistel_encrypt(RE_prev, LE_prev, k_i)\n",
    "print(\"right:\", hex(int(r[2:], 2)))\n",
    "print(\"left:\", hex(int(l[2:], 2)))"
   ]
  },
  {
   "cell_type": "code",
   "execution_count": 46,
   "metadata": {},
   "outputs": [
    {
     "name": "stdout",
     "output_type": "stream",
     "text": [
      "the decrypted data is:\n",
      "right: 0xde7f\n",
      "left: 0x3a6\n"
     ]
    }
   ],
   "source": [
    "# run the feistel decrypt on the encrypted data returned above\n",
    "l, r = feistel_decrypt(r,l, k_i)\n",
    "print(\"the decrypted data is:\")\n",
    "print(\"right:\",hex(int(r[2:], 2)))\n",
    "print(\"left:\",hex(int(l[2:], 2)))"
   ]
  },
  {
   "cell_type": "code",
   "execution_count": null,
   "metadata": {},
   "outputs": [],
   "source": []
  }
 ],
 "metadata": {
  "kernelspec": {
   "display_name": "Python 3",
   "language": "python",
   "name": "python3"
  },
  "language_info": {
   "codemirror_mode": {
    "name": "ipython",
    "version": 3
   },
   "file_extension": ".py",
   "mimetype": "text/x-python",
   "name": "python",
   "nbconvert_exporter": "python",
   "pygments_lexer": "ipython3",
   "version": "3.6.5"
  }
 },
 "nbformat": 4,
 "nbformat_minor": 2
}
