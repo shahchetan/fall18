{
 "cells": [
  {
   "cell_type": "markdown",
   "metadata": {},
   "source": [
    "## Caesar Cipher Encryption/Decryption"
   ]
  },
  {
   "cell_type": "code",
   "execution_count": 41,
   "metadata": {},
   "outputs": [],
   "source": [
    "# Define the alphabet map\n",
    "from pprint import pprint\n",
    "\n",
    "def build_char_map():\n",
    "    ch_map, count = {}, 0\n",
    "    for x in range(97,123):\n",
    "        ch_map[chr(x)] = count\n",
    "        count+=1\n",
    "    return ch_map\n",
    "    # pprint(ch_map)"
   ]
  },
  {
   "cell_type": "markdown",
   "metadata": {},
   "source": [
    "### A) Encryption\n",
    "- Iterate through the plain text character by character\n",
    "- Find the position of the character in the character map build above\n",
    "- Calculate the new value using: $C = E(k,p) = (p+k)mod26$ , where p = position of the character and k = Caesar shift value\n",
    "- Get the new character by converting to char from ascii and append to final string"
   ]
  },
  {
   "cell_type": "code",
   "execution_count": 42,
   "metadata": {},
   "outputs": [],
   "source": [
    "# Encryption Algorithm\n",
    "# C = E(k,p) = (p+k)mod26\n",
    "def caesar_encrypt(plain_text,shift=3):\n",
    "    cipher_text = ''\n",
    "    for x in plain_text:\n",
    "        new_char_position = (ch_map[x] + shift) % 26  # (p+k)mod26\n",
    "        new_char = chr(new_char_position + 65)  # convert char position number to actual character - uppercase,chr(ascii)\n",
    "        cipher_text+= new_char  # append the individual characters to get final string\n",
    "        \n",
    "    print('Caesar Cipher Text for \"{}\" is \"{}\" '.format(plain_text,cipher_text))\n",
    "    return cipher_text"
   ]
  },
  {
   "cell_type": "markdown",
   "metadata": {},
   "source": [
    "### B) Decryption\n",
    "- Iterate through the cipher text character by character\n",
    "- Find the position of the character in the character map build above\n",
    "- Calculate the new value using: $ (C-k)mod26$ , where C = position of the cipher character and k = Caesar shift value\n",
    "- Get the new character by converting to char from ascii and append to final string to get plain text"
   ]
  },
  {
   "cell_type": "code",
   "execution_count": 43,
   "metadata": {},
   "outputs": [],
   "source": [
    "def caesar_decrypt(cipher_text, shift=3):\n",
    "    plain_text = ''\n",
    "    for x in cipher_text:\n",
    "        x = x.lower()\n",
    "        new_char_position = (ch_map[x] - shift) %26  # (C-k)mod26\n",
    "        new_char = chr(new_char_position + 97) # convert char position number to actual character - lowercase,chr(ascii)\n",
    "        plain_text += new_char # append the individual characters to get final string\n",
    "        \n",
    "    print('Plain Text for \"{}\" is \"{}\"'.format(cipher_text, plain_text))"
   ]
  },
  {
   "cell_type": "code",
   "execution_count": 44,
   "metadata": {},
   "outputs": [
    {
     "name": "stdout",
     "output_type": "stream",
     "text": [
      "Caesar shift value = 3\n",
      "Caesar Cipher Text for \"sampletext\" is \"VDPSOHWHAW\" \n",
      "Plain Text for \"VDPSOHWHAW\" is \"sampletext\"\n"
     ]
    }
   ],
   "source": [
    "ch_map = build_char_map()\n",
    "caesar_shift = 3\n",
    "input_text = \"sampletext\"\n",
    "\n",
    "print('Caesar shift value = {}'.format(caesar_shift))\n",
    "# Caesar Encryption\n",
    "cipher_text = caesar_encrypt(input_text, caesar_shift)\n",
    "# Decryption of above encrypted Caesar cipher \n",
    "caesar_decrypt(cipher_text, caesar_shift)"
   ]
  }
 ],
 "metadata": {
  "kernelspec": {
   "display_name": "Python 3",
   "language": "python",
   "name": "python3"
  },
  "language_info": {
   "codemirror_mode": {
    "name": "ipython",
    "version": 3
   },
   "file_extension": ".py",
   "mimetype": "text/x-python",
   "name": "python",
   "nbconvert_exporter": "python",
   "pygments_lexer": "ipython3",
   "version": "3.6.5"
  }
 },
 "nbformat": 4,
 "nbformat_minor": 2
}
