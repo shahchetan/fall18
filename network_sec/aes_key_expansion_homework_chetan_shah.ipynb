{
 "cells": [
  {
   "cell_type": "markdown",
   "metadata": {},
   "source": [
    "### Utility functions\n",
    "Run the following cell to import the utility functions needed for this notebook"
   ]
  },
  {
   "cell_type": "code",
   "execution_count": 35,
   "metadata": {},
   "outputs": [],
   "source": [
    "from test_aes_key_expansion import *\n",
    "\n",
    "\n",
    "def get_rcon():\n",
    "    Rcon = ( 0x8d, 0x01, 0x02, 0x04, 0x08, 0x10, 0x20, 0x40, 0x80, 0x1b, 0x36, 0x6c, 0xd8, 0xab, 0x4d, 0x9a )\n",
    "    return Rcon\n",
    "\n",
    "def get_sbox():\n",
    "    \n",
    "    Sbox = (0x63, 0x7C, 0x77, 0x7B, 0xF2, 0x6B, 0x6F, 0xC5, 0x30, 0x01, 0x67, 0x2B, 0xFE, 0xD7, 0xAB, 0x76,\n",
    "            0xCA, 0x82, 0xC9, 0x7D, 0xFA, 0x59, 0x47, 0xF0, 0xAD, 0xD4, 0xA2, 0xAF, 0x9C, 0xA4, 0x72, 0xC0,\n",
    "            0xB7, 0xFD, 0x93, 0x26, 0x36, 0x3F, 0xF7, 0xCC, 0x34, 0xA5, 0xE5, 0xF1, 0x71, 0xD8, 0x31, 0x15,\n",
    "            0x04, 0xC7, 0x23, 0xC3, 0x18, 0x96, 0x05, 0x9A, 0x07, 0x12, 0x80, 0xE2, 0xEB, 0x27, 0xB2, 0x75,\n",
    "            0x09, 0x83, 0x2C, 0x1A, 0x1B, 0x6E, 0x5A, 0xA0, 0x52, 0x3B, 0xD6, 0xB3, 0x29, 0xE3, 0x2F, 0x84,\n",
    "            0x53, 0xD1, 0x00, 0xED, 0x20, 0xFC, 0xB1, 0x5B, 0x6A, 0xCB, 0xBE, 0x39, 0x4A, 0x4C, 0x58, 0xCF,\n",
    "            0xD0, 0xEF, 0xAA, 0xFB, 0x43, 0x4D, 0x33, 0x85, 0x45, 0xF9, 0x02, 0x7F, 0x50, 0x3C, 0x9F, 0xA8,\n",
    "            0x51, 0xA3, 0x40, 0x8F, 0x92, 0x9D, 0x38, 0xF5, 0xBC, 0xB6, 0xDA, 0x21, 0x10, 0xFF, 0xF3, 0xD2,\n",
    "            0xCD, 0x0C, 0x13, 0xEC, 0x5F, 0x97, 0x44, 0x17, 0xC4, 0xA7, 0x7E, 0x3D, 0x64, 0x5D, 0x19, 0x73,\n",
    "            0x60, 0x81, 0x4F, 0xDC, 0x22, 0x2A, 0x90, 0x88, 0x46, 0xEE, 0xB8, 0x14, 0xDE, 0x5E, 0x0B, 0xDB,\n",
    "            0xE0, 0x32, 0x3A, 0x0A, 0x49, 0x06, 0x24, 0x5C, 0xC2, 0xD3, 0xAC, 0x62, 0x91, 0x95, 0xE4, 0x79,\n",
    "            0xE7, 0xC8, 0x37, 0x6D, 0x8D, 0xD5, 0x4E, 0xA9, 0x6C, 0x56, 0xF4, 0xEA, 0x65, 0x7A, 0xAE, 0x08,\n",
    "            0xBA, 0x78, 0x25, 0x2E, 0x1C, 0xA6, 0xB4, 0xC6, 0xE8, 0xDD, 0x74, 0x1F, 0x4B, 0xBD, 0x8B, 0x8A,\n",
    "            0x70, 0x3E, 0xB5, 0x66, 0x48, 0x03, 0xF6, 0x0E, 0x61, 0x35, 0x57, 0xB9, 0x86, 0xC1, 0x1D, 0x9E,\n",
    "            0xE1, 0xF8, 0x98, 0x11, 0x69, 0xD9, 0x8E, 0x94, 0x9B, 0x1E, 0x87, 0xE9, 0xCE, 0x55, 0x28, 0xDF,\n",
    "            0x8C, 0xA1, 0x89, 0x0D, 0xBF, 0xE6, 0x42, 0x68, 0x41, 0x99, 0x2D, 0x0F, 0xB0, 0x54, 0xBB, 0x16)\n",
    "    return Sbox\n",
    "        \n",
    "\n",
    "def rotate(word, n):\n",
    "    return word[n:] + word[0:n]"
   ]
  },
  {
   "cell_type": "markdown",
   "metadata": {},
   "source": [
    "# AES Key Expansion\n",
    "\n",
    "AES key expansion uses a `g(.)` function that performs the following operations on a given word:\n",
    "    \n",
    "- **Rotate:** takes a 4-byte word and rotates everything one byte to the left, e.g. rotate([1,2,3,4]) → [2, 3, 4, 1]\n",
    "- **SubBytes:** each byte of a word is substituted with the value in the S-Box whose index is the value of the original byte\n",
    "- **Rcon:** the first byte of a word is XORed with the round constant. Each value of the Rcon table is a member of the Rinjdael finite field.\n",
    "\n",
    "\n",
    "<img src='aes_images/aes_key_expansion.png' width=50%>\n",
    "\n",
    "**Exercise:** Implement `g()` to perform the above operations on a given word based on the round number $i$\n"
   ]
  },
  {
   "cell_type": "code",
   "execution_count": 36,
   "metadata": {},
   "outputs": [],
   "source": [
    "# takes 4-byte word and iteration number\n",
    "def g(input_word, i):\n",
    "    \n",
    "    # get the RCON array\n",
    "    rcon = get_rcon()\n",
    "    \n",
    "    # Get the SBOX\n",
    "    sbox = get_sbox()\n",
    "    \n",
    "    # rotate word 1 byte to the left\n",
    "    word = rotate(input_word,1)\n",
    "    \n",
    "    # make an byte array with the length of word\n",
    "    new_word = bytearray(len(input_word))\n",
    "\n",
    "    # apply sbox substitution on all bytes of word\n",
    "    for ind,e in enumerate(word):\n",
    "        new_word[ind] = sbox[e]\n",
    "    \n",
    "    # XOR the output of the rcon[i] transformation with the first part\n",
    "    # of the word\n",
    "    new_word[0] = new_word[0] ^ rcon[i]\n",
    "    \n",
    "    return new_word"
   ]
  },
  {
   "cell_type": "code",
   "execution_count": 37,
   "metadata": {},
   "outputs": [
    {
     "name": "stdout",
     "output_type": "stream",
     "text": [
      "Sanity Check(g):  True\n"
     ]
    }
   ],
   "source": [
    "print('Sanity Check(g): ', test_g(g))"
   ]
  },
  {
   "cell_type": "markdown",
   "metadata": {},
   "source": [
    "## Expanding a 128-bit key\n",
    "Expanding a 128-bit key uses an array with 176 bytes as follows:\n",
    "1. The first 16 bytes of the expanded key are simply the encryption key\n",
    "2. The rcon iteration value i is set to 0\n",
    "\n",
    "Until we have 176 bytes of expanded key, we do the following to generate 16 more bytes of expanded key:\n",
    "\n",
    "   1. We do the following to create the first four bytes of expanded key:\n",
    "      - We create a 4-byte temporary variable, $t$\n",
    "      - We assign the value of the previous four bytes in the temporary key to $t$\n",
    "      - We perform `g()` (see above) on $t$, with $i$ as the rcon iteration value.\n",
    "      - We increment $i$ by one.\n",
    "      - We exclusive-or $t$ with the four-byte block 16 bytes before the new expanded key. This becomes the next four bytes in the expanded key. \n",
    "   2. We then do the following three times to create the next twelve bytes of expanded key:\n",
    "      - We assign the value of the previous four bytes in the temporary key to $t$\n",
    "      - We exclusive-or $t$ with the four-byte block 16 bytes before the new expanded key. This becomes the next four bytes in the expanded key. \n"
   ]
  },
  {
   "cell_type": "code",
   "execution_count": 38,
   "metadata": {},
   "outputs": [],
   "source": [
    "def expand_key_128(initial_key):\n",
    "    \n",
    "    # initialize expanded_key with a size of the intial \n",
    "    expanded_key = bytearray(len(initial_key))\n",
    "    \n",
    "    # copy initial key to expanded key\n",
    "    expanded_key[:len(initial_key)] = initial_key\n",
    "    \n",
    "    # set Rcon iterator to 0\n",
    "    i = 0\n",
    "    \n",
    "    # make a temporary bytearray with the size of a word (representing t) \n",
    "    temp = bytearray(4)  # 4-byte container for temp storage\n",
    "    \n",
    "    while len(expanded_key) < 176:\n",
    "        \n",
    "        \n",
    "        # temp → last 4 bytes of expandedKey\n",
    "        temp = expanded_key[-4:]\n",
    "\n",
    "        # every 16 bytes apply core schedule to temp\n",
    "        if len(expanded_key)% 16 == 0:\n",
    "            # apply g()\n",
    "            temp = g(temp,i)\n",
    "            \n",
    "            #increament i\n",
    "            i =  i + 1\n",
    "\n",
    "        \n",
    "        # XOR temp with the 4-byte block 16 bytes before the end of the current expanded key.\n",
    "        # These 4 bytes become the next bytes in the expanded key\n",
    "        # NOTE: xor is note defined on the bytearray, you need to perform xor on each element on temp\n",
    "        # and add it to expanded_key\n",
    "        l = len(expanded_key)\n",
    "        exp_temp = expanded_key[l-16:l-12]\n",
    "        for x in range(4):\n",
    "            expanded_key.append(temp[x] ^ exp_temp[x])\n",
    "\n",
    "    return expanded_key\n",
    "                           "
   ]
  },
  {
   "cell_type": "code",
   "execution_count": 39,
   "metadata": {},
   "outputs": [
    {
     "name": "stdout",
     "output_type": "stream",
     "text": [
      "Sanity Check (expand_key_128):  True\n"
     ]
    }
   ],
   "source": [
    "print('Sanity Check (expand_key_128): ', test_expanded_key_128(expand_key_128))"
   ]
  },
  {
   "cell_type": "markdown",
   "metadata": {},
   "source": [
    "## Expanding a 192-bit key\n",
    "This is almost identical to a 128-bit key schedule:\n",
    "\n",
    "1. The first 24 bytes of the expanded key are simply the encryption key\n",
    "2. The rcon iteration value i is set to 0\n",
    "\n",
    "Until we have 208 bytes of expanded key, we do the following to generate 24 more bytes of expanded key:\n",
    "   1. We do the following to create the first four bytes of expanded key:\n",
    "        - We create a 4-byte temporary variable, t\n",
    "        - We assign the value of the previous four bytes in the temporary key to t\n",
    "        - We perform schedule_core (see above) on t, with i as the rcon iteration value.\n",
    "        - We increment i by one.\n",
    "        - We exclusive-or t with the four-byte block 24 bytes before the new expanded key. This becomes the next four bytes in the expanded key. \n",
    "   2. We then do the following five times to create the next 20 bytes of expanded key:\n",
    "        - We assign the value of the previous four bytes in the temporary key to t\n",
    "        - We exclusive-or t with the four-byte block 24 bytes before the new expanded key. This becomes the next four bytes in the expanded key. \n",
    "\n",
    "We now have 208 bytes of expanded key generated. "
   ]
  },
  {
   "cell_type": "code",
   "execution_count": 40,
   "metadata": {},
   "outputs": [],
   "source": [
    "def expand_key_192(initial_key):\n",
    "    \n",
    "    # initialize expanded_key with a size of the intial \n",
    "    expanded_key = bytearray(len(initial_key))\n",
    "    \n",
    "    # copy initial key to expanded key\n",
    "    expanded_key[:len(initial_key)] = initial_key\n",
    "    \n",
    "    # set Rcon iterator to 0\n",
    "    i = 0\n",
    "    \n",
    "    # make a temporary bytearray with the size of a word (representing t) \n",
    "    temp = bytearray(4)  # 4-byte container for temp storage\n",
    "    \n",
    "    while len(expanded_key) < 208:\n",
    "        \n",
    "        \n",
    "        # temp → last 4 bytes of expandedKey\n",
    "        temp = expanded_key[-4:]\n",
    "\n",
    "        # every 16 bytes apply core schedule to temp\n",
    "        if len(expanded_key)% 24 == 0:\n",
    "            # apply g()\n",
    "            temp = g(temp,i)\n",
    "            \n",
    "            #increament i\n",
    "            i =  i + 1\n",
    "\n",
    "        \n",
    "        # XOR temp with the 4-byte block 24 bytes before the end of the current expanded key.\n",
    "        # These 4 bytes become the next bytes in the expanded key\n",
    "        # NOTE: xor is note defined on the bytearray, you need to perform xor on each element on temp\n",
    "        # and add it to expanded_key\n",
    "        l = len(expanded_key)\n",
    "        exp_temp = expanded_key[l-24:l-20]\n",
    "        for x in range(4):\n",
    "            expanded_key.append(temp[x] ^ exp_temp[x])\n",
    "    \n",
    "    return expanded_key\n",
    "                           "
   ]
  },
  {
   "cell_type": "code",
   "execution_count": 41,
   "metadata": {},
   "outputs": [
    {
     "name": "stdout",
     "output_type": "stream",
     "text": [
      "Sanity Check (expand_key_192):  True\n"
     ]
    }
   ],
   "source": [
    "print('Sanity Check (expand_key_192): ', test_expanded_key_192(expand_key_192))"
   ]
  },
  {
   "cell_type": "markdown",
   "metadata": {},
   "source": [
    "## Expanding a 256-bit key\n",
    "This is similar to the 128-bit and 192-bit key schedule, but includes an extra application of the s-box.\n",
    "\n",
    "1. The first 32 bytes of the expanded key are simply the encryption key\n",
    "2. The rcon iteration value i is set to 0\n",
    "\n",
    "Until we have 240 bytes of expanded key, we do the following to generate 32 more bytes of expanded key:\n",
    "   1. We do the following to create the first four bytes of expanded key:\n",
    "        - We create a 4-byte temporary variable, t\n",
    "        - We assign the value of the previous four bytes in the temporary key to t\n",
    "        - We perform schedule_core (see above) on t, with i as the rcon iteration value.\n",
    "        - We increment i by one.\n",
    "        - We exclusive-or t with the four-byte block 32 bytes before the new expanded key. This becomes the next four bytes in the expanded key. \n",
    "   2. We then do the following three times to create the next twelve bytes of expanded key:\n",
    "        - We assign the value of the previous four bytes in the temporary key to t\n",
    "        - We exclusive-or t with the four-byte block 32 bytes before the new expanded key. This becomes the next four bytes in the expanded key. \n",
    "   3. We then do the following to create the next four bytes of expanded key:\n",
    "        - We assign the value of the previous four bytes in the temporary key to t\n",
    "        - We run each of the four bytes in t through Rijndael's S-box\n",
    "        - We exclusive-or t with the four-byte block 32 bytes before the new expanded key. This becomes the next four bytes in the expanded key. \n",
    "   4. We then do the following three times to create the next twelve bytes of expanded key:\n",
    "        - We assign the value of the previous four bytes in the temporary key to t\n",
    "        - We exclusive-or t with the four-byte block 32 bytes before the new expanded key. This becomes the next four bytes in the expanded key. \n",
    "\n",
    "We now have 240 bytes of expanded key generated. "
   ]
  },
  {
   "cell_type": "code",
   "execution_count": 42,
   "metadata": {},
   "outputs": [],
   "source": [
    "def expand_key_256(initial_key):\n",
    "    \n",
    "    # initialize expanded_key with a size of the intial \n",
    "    expanded_key = bytearray(len(initial_key))\n",
    "    \n",
    "    # copy initial key to expanded key\n",
    "    expanded_key[:len(initial_key)] = initial_key\n",
    "    \n",
    "    # set Rcon iterator to 0\n",
    "    i = 0\n",
    "    \n",
    "    # get sbox\n",
    "    sbox = get_sbox()\n",
    "    \n",
    "    # make a temporary bytearray with the size of a word (representing t) \n",
    "    temp = bytearray(4)  # 4-byte container for temp storage\n",
    "    \n",
    "    while len(expanded_key) < 240:\n",
    "        \n",
    "        # temp → last 4 bytes of expandedKey\n",
    "        temp = expanded_key[-4:]\n",
    "\n",
    "        # every 16 bytes apply core schedule to temp\n",
    "        if len(expanded_key) % 32 == 0:\n",
    "            # apply g()\n",
    "            temp = g(temp,i)\n",
    "            \n",
    "            #increament i\n",
    "            i =  i + 1\n",
    "\n",
    "        for x in range(4):\n",
    "            temp[x] = sbox[temp[x]]\n",
    "            \n",
    "        # XOR temp with the 4-byte block 32 bytes before the end of the current expanded key.\n",
    "        # These 4 bytes become the next bytes in the expanded key\n",
    "        # NOTE: xor is note defined on the bytearray, you need to perform xor on each element on temp\n",
    "        # and add it to expanded_key\n",
    "        l = len(expanded_key)\n",
    "        exp_temp = expanded_key[l-32:l-28]\n",
    "        for x in range(4):\n",
    "            expanded_key.append(temp[x] ^ exp_temp[x])\n",
    "\n",
    "    return expanded_key"
   ]
  },
  {
   "cell_type": "code",
   "execution_count": 43,
   "metadata": {},
   "outputs": [
    {
     "name": "stdout",
     "output_type": "stream",
     "text": [
      "Sanity Check (expand_key_256):  True\n"
     ]
    }
   ],
   "source": [
    "print('Sanity Check (expand_key_256): ', test_expanded_key_256(expand_key_256))"
   ]
  },
  {
   "cell_type": "markdown",
   "metadata": {},
   "source": [
    "### Grade\n",
    "Run the following cell to calculate your grade.\n"
   ]
  },
  {
   "cell_type": "code",
   "execution_count": 44,
   "metadata": {},
   "outputs": [
    {
     "name": "stdout",
     "output_type": "stream",
     "text": [
      "+-------+------------------+--------+-------+\n",
      "| Index | Exercise         | Passed | Grade |\n",
      "+-------+------------------+--------+-------+\n",
      "| 0     | expanded_key_128 | True   | 10    |\n",
      "| 1     | expanded_key_192 | True   | 10    |\n",
      "| 2     | expanded_key_256 | True   | 10    |\n",
      "| 3     | g                | True   | 10    |\n",
      "+-------+------------------+--------+-------+\n",
      "Grade: 100.00\n"
     ]
    }
   ],
   "source": [
    "exercise_functions = get_module_functions(sys.modules[__name__])\n",
    "evaluate(exercise_functions)"
   ]
  },
  {
   "cell_type": "code",
   "execution_count": null,
   "metadata": {},
   "outputs": [],
   "source": []
  },
  {
   "cell_type": "code",
   "execution_count": null,
   "metadata": {},
   "outputs": [],
   "source": []
  }
 ],
 "metadata": {
  "kernelspec": {
   "display_name": "Python 3",
   "language": "python",
   "name": "python3"
  },
  "language_info": {
   "codemirror_mode": {
    "name": "ipython",
    "version": 3
   },
   "file_extension": ".py",
   "mimetype": "text/x-python",
   "name": "python",
   "nbconvert_exporter": "python",
   "pygments_lexer": "ipython3",
   "version": "3.6.5"
  }
 },
 "nbformat": 4,
 "nbformat_minor": 2
}
