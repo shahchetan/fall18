{
 "cells": [
  {
   "cell_type": "markdown",
   "metadata": {},
   "source": [
    "## UNIX Password System"
   ]
  },
  {
   "cell_type": "code",
   "execution_count": 1,
   "metadata": {},
   "outputs": [],
   "source": [
    "import hashlib\n",
    "import json\n",
    "import os\n",
    "import uuid\n",
    "\n",
    "password_db = {}\n",
    "password_file_name = 'password_file'"
   ]
  },
  {
   "cell_type": "markdown",
   "metadata": {},
   "source": [
    "Utility functions\n",
    "- get_sha2() : get sha2 hash of the 'data'\n",
    "- update_pwd_file() : update the user and password to file on disk\n",
    "- read_pwd_file() : read all the user and password information from file on disk"
   ]
  },
  {
   "cell_type": "code",
   "execution_count": 2,
   "metadata": {},
   "outputs": [],
   "source": [
    "def get_password_hash(pwd, salt):\n",
    "    hash_object = hashlib.sha256(salt.encode() + pwd.encode())\n",
    "    hex_digest = hash_object.hexdigest()\n",
    "    # print(hex_digest)\n",
    "    return hex_digest\n",
    "\n",
    "\n",
    "def update_pwd_file(pwd_data):\n",
    "    with open(password_file_name, 'w') as outfile:\n",
    "        json.dump(pwd_data, outfile)\n",
    "\n",
    "\n",
    "def read_pwd_file():\n",
    "    with open(password_file_name) as data_file:\n",
    "        try:\n",
    "            pwd_data = json.load(data_file)\n",
    "        except Exception:\n",
    "            pwd_data = {}\n",
    "    return pwd_data\n"
   ]
  },
  {
   "cell_type": "code",
   "execution_count": 3,
   "metadata": {},
   "outputs": [],
   "source": [
    "# Function to check if the user's entered password is correct for the user to sign in\n",
    "def authenticate(user='', pwd='', direct_verify=False):\n",
    "    if not direct_verify:\n",
    "        user = input(\"Enter username: \")\n",
    "\n",
    "        if user not in password_db:\n",
    "            print(\"Error: User does not exist. Try signing up!\")\n",
    "            return False\n",
    "\n",
    "        pwd = input(\"Enter password: \")\n",
    "\n",
    "    pwd_hash = get_password_hash(pwd, password_db[user]['salt'])\n",
    "    if password_db[user]['pwd_hash'] == pwd_hash:\n",
    "        print(\"Password verified. Sign in successful!\")\n",
    "        return True\n",
    "    else:\n",
    "        print(\"Incorrect Password!\")\n",
    "        return False"
   ]
  },
  {
   "cell_type": "code",
   "execution_count": 4,
   "metadata": {},
   "outputs": [],
   "source": [
    "# Function to Sign up : creates new user/password entry in the password file\n",
    "def create_user_entry():\n",
    "    user = input(\"Enter username: \")\n",
    "    if user in password_db:\n",
    "        print(\"Error: User Already exists\")\n",
    "        return False\n",
    "\n",
    "    pwd = input(\"Enter password: \")\n",
    "\n",
    "    salt = uuid.uuid4().hex\n",
    "\n",
    "    pwd_hash = get_password_hash(pwd, salt)\n",
    "    password_db[user] = {}\n",
    "    password_db[user]['pwd_hash'] = pwd_hash\n",
    "    password_db[user]['salt'] = salt\n",
    "    update_pwd_file(password_db)\n",
    "    print(\"Created New User Entry: {}\".format(user))"
   ]
  },
  {
   "cell_type": "code",
   "execution_count": 5,
   "metadata": {},
   "outputs": [],
   "source": [
    "# Change Password: Update the user's password (if the current password is correct)\n",
    "def change_password():\n",
    "    user = input(\"Enter username: \")\n",
    "\n",
    "    if user not in password_db:\n",
    "        print(\"Error: User does not exist!\")\n",
    "        return False\n",
    "\n",
    "    old_password = input(\"Enter current password: \")\n",
    "    new_password = input(\"Enter new password: \")\n",
    "\n",
    "    if not authenticate(user, old_password, direct_verify=True):\n",
    "        print(\"Error: Incorrect Current Password\")\n",
    "        return False\n",
    "\n",
    "    salt = uuid.uuid4().hex\n",
    "    pwd_hash = get_password_hash(new_password, salt)\n",
    "    password_db[user]['pwd_hash'] = pwd_hash\n",
    "    password_db[user]['salt'] = salt\n",
    "\n",
    "    update_pwd_file(password_db)\n",
    "    print(\"Password successfully changed for user: {}\".format(user))"
   ]
  },
  {
   "cell_type": "code",
   "execution_count": null,
   "metadata": {},
   "outputs": [
    {
     "name": "stdout",
     "output_type": "stream",
     "text": [
      "Welcome to ENPM693 Authentication System \n",
      "***********************\n",
      "1.Sign Up\n",
      "2.Sign in\n",
      "3.Change Password\n",
      "Select Option Number:1\n",
      "Enter username: user1\n",
      "Enter password: pass1\n",
      "Created New User Entry: user1\n",
      "***********************\n",
      "1.Sign Up\n",
      "2.Sign in\n",
      "3.Change Password\n",
      "Select Option Number:2\n",
      "Enter username: user1\n",
      "Enter password: pass1\n",
      "Password verified. Sign in successful!\n",
      "***********************\n",
      "1.Sign Up\n",
      "2.Sign in\n",
      "3.Change Password\n",
      "Select Option Number:3\n",
      "Enter username: user1\n",
      "Enter current password: pass1\n",
      "Enter new password: pass2\n",
      "Password verified. Sign in successful!\n",
      "Password successfully changed for user: user1\n",
      "***********************\n",
      "1.Sign Up\n",
      "2.Sign in\n",
      "3.Change Password\n",
      "Select Option Number:2\n",
      "Enter username: user1\n",
      "Enter password: pass2\n",
      "Password verified. Sign in successful!\n",
      "***********************\n",
      "1.Sign Up\n",
      "2.Sign in\n",
      "3.Change Password\n"
     ]
    }
   ],
   "source": [
    "def interactive_console():\n",
    "    global password_db\n",
    "    password_db = read_pwd_file()\n",
    "    print(\"Welcome to ENPM693 Authentication System \")\n",
    "    while True:\n",
    "        print(\"***********************\")\n",
    "        print(\"1.Sign Up\")\n",
    "        print(\"2.Sign in\")\n",
    "        print(\"3.Change Password\")\n",
    "        option_number = input(\"Select Option Number:\")\n",
    "        if option_number not in ['1', '2', '3']:\n",
    "            print(\"Incorrect option. Try again!\\n\")\n",
    "            continue\n",
    "        option_number = int(option_number)\n",
    "        options = {1: create_user_entry,\n",
    "                   2: authenticate,\n",
    "                   3: change_password,\n",
    "                   }\n",
    "        options[option_number]()\n",
    "\n",
    "\n",
    "if __name__ == '__main__':\n",
    "    # code to handle password file not being present\n",
    "    if not os.path.exists(password_file_name):\n",
    "        with open(password_file_name, 'w') as data_file:\n",
    "            data_file.write('{}')\n",
    "\n",
    "    interactive_console()"
   ]
  },
  {
   "cell_type": "code",
   "execution_count": null,
   "metadata": {},
   "outputs": [],
   "source": []
  }
 ],
 "metadata": {
  "kernelspec": {
   "display_name": "Python 3",
   "language": "python",
   "name": "python3"
  },
  "language_info": {
   "codemirror_mode": {
    "name": "ipython",
    "version": 3
   },
   "file_extension": ".py",
   "mimetype": "text/x-python",
   "name": "python",
   "nbconvert_exporter": "python",
   "pygments_lexer": "ipython3",
   "version": "3.6.5"
  }
 },
 "nbformat": 4,
 "nbformat_minor": 2
}
