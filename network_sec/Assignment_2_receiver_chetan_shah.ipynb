{
 "cells": [
  {
   "cell_type": "markdown",
   "metadata": {},
   "source": [
    "## Caesar Cipher Decryption"
   ]
  },
  {
   "cell_type": "code",
   "execution_count": 1,
   "metadata": {},
   "outputs": [],
   "source": [
    "# Define the alphabet map\n",
    "from pprint import pprint\n",
    "\n",
    "def build_char_map():\n",
    "    ch_map, count = {}, 0\n",
    "    for x in range(97,123):\n",
    "        ch_map[chr(x)] = count\n",
    "        count+=1\n",
    "    return ch_map\n",
    "    # pprint(ch_map)"
   ]
  },
  {
   "cell_type": "markdown",
   "metadata": {},
   "source": [
    "### Decryption\n",
    "- Iterate through the cipher text character by character\n",
    "- Find the position of the character in the character map build above\n",
    "- Calculate the new value using: $ (C-k)mod26$ , where C = position of the cipher character and k = Caesar shift value\n",
    "- Get the new character by converting to char from ascii and append to final string to get plain text"
   ]
  },
  {
   "cell_type": "code",
   "execution_count": 2,
   "metadata": {},
   "outputs": [],
   "source": [
    "def caesar_decrypt(cipher_text, shift=3):\n",
    "    plain_text = ''\n",
    "    for x in cipher_text:\n",
    "        x = x.lower()\n",
    "        if not x.isalpha(): # avoid trying to decrypt characters which are not alphabets \n",
    "            plain_text += x\n",
    "            continue\n",
    "        new_char_position = (ch_map[x] - shift) %26  # (C-k)mod26\n",
    "        new_char = chr(new_char_position + 97) # convert char position number to actual character - lowercase,chr(ascii)\n",
    "        plain_text += new_char # append the individual characters to get final string\n",
    "        \n",
    "    print('Plain Text for \"{}\" is \"{}\"'.format(cipher_text, plain_text))\n",
    "    return plain_text"
   ]
  },
  {
   "cell_type": "markdown",
   "metadata": {},
   "source": [
    "### UDP receiver (Receive, decrypt and write data to file)"
   ]
  },
  {
   "cell_type": "code",
   "execution_count": 3,
   "metadata": {},
   "outputs": [],
   "source": [
    "import socket\n",
    "from time import sleep\n",
    "def udp_receiver(output_filename):\n",
    "    UDP_IP = \"10.41.246.200\"\n",
    "    UDP_PORT = 22000\n",
    "\n",
    "    sock = socket.socket(socket.AF_INET, # Internet\n",
    "                         socket.SOCK_DGRAM) # UDP\n",
    "    sock.bind((UDP_IP, UDP_PORT))\n",
    "    print \"Writing received decrypted data to:\", output_filename\n",
    "    while True:\n",
    "        data, addr = sock.recvfrom(1024) # buffer size is 1024 bytes\n",
    "        print(\"received message:\", data.decode())\n",
    "        \n",
    "        decrypted_data = caesar_decrypt(data.decode(), caesar_shift)  # decrypt the incoming data using Caesar cipher method\n",
    "        with open(output_filename,'a+') as myfile: \n",
    "            myfile.write(decrypted_data) # decrypted data written to a output file\n",
    "        sleep(0.1)"
   ]
  },
  {
   "cell_type": "code",
   "execution_count": null,
   "metadata": {},
   "outputs": [],
   "source": [
    "ch_map = build_char_map()\n",
    "caesar_shift = 3\n",
    "\n",
    "print('Caesar shift value = {}'.format(caesar_shift))\n",
    "output_filename = \"received_data.txt\"\n",
    "udp_receiver(output_filename)"
   ]
  }
 ],
 "metadata": {
  "kernelspec": {
   "display_name": "Python 3",
   "language": "python",
   "name": "python3"
  },
  "language_info": {
   "codemirror_mode": {
    "name": "ipython",
    "version": 3
   },
   "file_extension": ".py",
   "mimetype": "text/x-python",
   "name": "python",
   "nbconvert_exporter": "python",
   "pygments_lexer": "ipython3",
   "version": "3.6.5"
  }
 },
 "nbformat": 4,
 "nbformat_minor": 2
}
