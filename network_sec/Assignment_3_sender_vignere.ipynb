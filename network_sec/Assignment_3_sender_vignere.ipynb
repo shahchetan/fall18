{
 "cells": [
  {
   "cell_type": "markdown",
   "metadata": {},
   "source": [
    "## Caesar Cipher Encryption"
   ]
  },
  {
   "cell_type": "code",
   "execution_count": 1,
   "metadata": {},
   "outputs": [],
   "source": [
    "# Define the alphabet map\n",
    "from pprint import pprint\n",
    "\n",
    "def build_char_map():\n",
    "    ch_map, count = {}, 0\n",
    "    for x in range(65,91):\n",
    "        ch_map[chr(x)] = count\n",
    "        count+=1\n",
    "    return ch_map\n",
    "    # pprint(ch_map)"
   ]
  },
  {
   "cell_type": "markdown",
   "metadata": {},
   "source": [
    "### Vignere Encryption"
   ]
  },
  {
   "cell_type": "code",
   "execution_count": 2,
   "metadata": {},
   "outputs": [],
   "source": [
    "def vignere_encrypt(key, plain_text):\n",
    "    cipher_text = []\n",
    "    key_ind = 0\n",
    "    plain_text = plain_text.upper()  # currently only taking into consideration lowercase characters\n",
    "    for x in plain_text:\n",
    "        if not x.isalpha():  # avoid trying to encrypt characters which are not alphabets\n",
    "            cipher_text += x\n",
    "            continue\n",
    "        shift = ch_map[key[key_ind]] + 1 # adding 1 as ch_map values start from zero\n",
    "        new_char_position = (ch_map[x] + shift) % 26 \n",
    "        new_char = chr(\n",
    "            new_char_position + 65)  # convert char position number to actual character - uppercase,chr(ascii)\n",
    "        cipher_text.append(new_char)  # append the individual characters to get final string\n",
    "\n",
    "        key_ind += 1\n",
    "        if key_ind == len(key):\n",
    "            key_ind = 0  # set key_ind to zero if key length is exhausted to start from beginning of key\n",
    "\n",
    "    cipher_text = \"\".join(cipher_text)\n",
    "    print('Cipher Text for \"{}\" is \"{}\" '.format(plain_text, cipher_text))\n",
    "    return cipher_text"
   ]
  },
  {
   "cell_type": "markdown",
   "metadata": {},
   "source": [
    "### UDP sender"
   ]
  },
  {
   "cell_type": "code",
   "execution_count": 3,
   "metadata": {},
   "outputs": [],
   "source": [
    "import socket\n",
    "def udp_sender(filename, key):\n",
    "    # define socket\n",
    "    sock = socket.socket(socket.AF_INET, socket.SOCK_DGRAM) # UDP\n",
    "    UDP_IP = \"10.41.246.200\"\n",
    "    UDP_PORT = 22000\n",
    "    \n",
    "    with open(filename) as myfile:\n",
    "        data = myfile.read() \n",
    "    \n",
    "    encrypted_message = vignere_encrypt(key, data)\n",
    "    sock.sendto(str.encode(encrypted_message), (UDP_IP, UDP_PORT))"
   ]
  },
  {
   "cell_type": "code",
   "execution_count": null,
   "metadata": {},
   "outputs": [],
   "source": [
    "ch_map = build_char_map()\n",
    "key = 'MARYLAND'\n",
    "udp_sender('file_to_send.txt',key)\n"
   ]
  }
 ],
 "metadata": {
  "kernelspec": {
   "display_name": "Python 3",
   "language": "python",
   "name": "python3"
  },
  "language_info": {
   "codemirror_mode": {
    "name": "ipython",
    "version": 3
   },
   "file_extension": ".py",
   "mimetype": "text/x-python",
   "name": "python",
   "nbconvert_exporter": "python",
   "pygments_lexer": "ipython3",
   "version": "3.6.5"
  }
 },
 "nbformat": 4,
 "nbformat_minor": 2
}
