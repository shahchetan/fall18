{
 "cells": [
  {
   "cell_type": "markdown",
   "metadata": {},
   "source": [
    "## Caesar Cipher Encryption"
   ]
  },
  {
   "cell_type": "code",
   "execution_count": 1,
   "metadata": {},
   "outputs": [],
   "source": [
    "# Define the alphabet map\n",
    "from pprint import pprint\n",
    "\n",
    "def build_char_map():\n",
    "    ch_map, count = {}, 0\n",
    "    for x in range(97,123):\n",
    "        ch_map[chr(x)] = count\n",
    "        count+=1\n",
    "    return ch_map\n",
    "    # pprint(ch_map)"
   ]
  },
  {
   "cell_type": "markdown",
   "metadata": {},
   "source": [
    "### Encryption\n",
    "- Iterate through the plain text character by character\n",
    "- Find the position of the character in the character map build above\n",
    "- Calculate the new value using: $C = E(k,p) = (p+k)mod26$ , where p = position of the character and k = Caesar shift value\n",
    "- Get the new character by converting to char from ascii and append to final string"
   ]
  },
  {
   "cell_type": "code",
   "execution_count": 2,
   "metadata": {},
   "outputs": [],
   "source": [
    "# Encryption Algorithm\n",
    "# C = E(k,p) = (p+k)mod26\n",
    "def caesar_encrypt(plain_text,shift=3):\n",
    "    cipher_text = []\n",
    "    plain_text = plain_text.lower() # currently only taking into consideration lowercase characters\n",
    "    for x in plain_text:\n",
    "        if not x.isalpha(): # avoid trying to encrypt characters which are not alphabets \n",
    "            cipher_text += x\n",
    "            continue\n",
    "        new_char_position = (ch_map[x] + shift) % 26  # (p+k)mod26\n",
    "        new_char = chr(new_char_position + 65)  # convert char position number to actual character - uppercase,chr(ascii)\n",
    "        cipher_text.append(new_char)  # append the individual characters to get final string\n",
    "    cipher_text = \"\".join(cipher_text) \n",
    "    print('Caesar Cipher Text for \"{}\" is \"{}\" '.format(plain_text,cipher_text))\n",
    "    return cipher_text"
   ]
  },
  {
   "cell_type": "markdown",
   "metadata": {},
   "source": [
    "### UDP sender"
   ]
  },
  {
   "cell_type": "code",
   "execution_count": 3,
   "metadata": {},
   "outputs": [],
   "source": [
    "import socket\n",
    "def udp_sender(filename):\n",
    "    # define socket\n",
    "    sock = socket.socket(socket.AF_INET, socket.SOCK_DGRAM) # UDP\n",
    "    UDP_IP = \"10.41.246.200\"\n",
    "    UDP_PORT = 22000\n",
    "    \n",
    "    with open(filename) as myfile:\n",
    "        data = myfile.read() \n",
    "    \n",
    "    # encrypt and send data character by character\n",
    "    for x in data:\n",
    "        encrypted_message = caesar_encrypt(x, caesar_shift)\n",
    "        sock.sendto(str.encode(encrypted_message), (UDP_IP, UDP_PORT))\n",
    "    \n",
    "    # can be used to send entire file in one shot\n",
    "    # encrypted_message = caesar_encrypt(data, caesar_shift)\n",
    "    # sock.sendto(str.encode(encrypted_message), (UDP_IP, UDP_PORT))"
   ]
  },
  {
   "cell_type": "code",
   "execution_count": null,
   "metadata": {},
   "outputs": [],
   "source": [
    "ch_map = build_char_map()\n",
    "caesar_shift = 3\n",
    "input_text = \"sampletext\"\n",
    "\n",
    "print('Caesar shift value = {}'.format(caesar_shift))\n",
    "\n",
    "udp_sender('file_to_send.txt')\n"
   ]
  }
 ],
 "metadata": {
  "kernelspec": {
   "display_name": "Python 3",
   "language": "python",
   "name": "python3"
  },
  "language_info": {
   "codemirror_mode": {
    "name": "ipython",
    "version": 3
   },
   "file_extension": ".py",
   "mimetype": "text/x-python",
   "name": "python",
   "nbconvert_exporter": "python",
   "pygments_lexer": "ipython3",
   "version": "3.6.5"
  }
 },
 "nbformat": 4,
 "nbformat_minor": 2
}
